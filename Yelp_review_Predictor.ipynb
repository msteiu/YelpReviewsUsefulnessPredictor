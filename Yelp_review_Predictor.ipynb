{
 "cells": [
  {
   "cell_type": "markdown",
   "metadata": {},
   "source": [
    "# Yelp Review Predictor\n",
    "\n",
    "### Author: Lisa Huang, Huihan Li, Mara-Florina Steiu\n",
    "Created: 05/03/2018\n",
    "Last Modified: 05/20/2018\n",
    "\n",
    "Features used: number of exclamations, number of punctuations, rating difference between actual and overall, positive sentiment words, negative sentiment words\n",
    "\n",
    "Accuracy: **61.61%**\n",
    "\n",
    "**CS232 Final Project of *Huihan Li, Lisa Huang and Mara-Florina Steiu* **"
   ]
  },
  {
   "cell_type": "markdown",
   "metadata": {},
   "source": [
    "# 1. Analyzing the data"
   ]
  },
  {
   "cell_type": "markdown",
   "metadata": {},
   "source": [
    "## 1.1 Open json data"
   ]
  },
  {
   "cell_type": "code",
   "execution_count": 1,
   "metadata": {
    "collapsed": true
   },
   "outputs": [],
   "source": [
    "import json"
   ]
  },
  {
   "cell_type": "code",
   "execution_count": 2,
   "metadata": {
    "collapsed": true
   },
   "outputs": [],
   "source": [
    "from open_useful_reviews import *\n",
    "from open_useless_reviews import *\n",
    "from open_business import *"
   ]
  },
  {
   "cell_type": "code",
   "execution_count": 3,
   "metadata": {
    "collapsed": true
   },
   "outputs": [],
   "source": [
    "import matplotlib.pyplot as plt\n",
    "import numpy as np"
   ]
  },
  {
   "cell_type": "code",
   "execution_count": 4,
   "metadata": {},
   "outputs": [
    {
     "data": {
      "text/plain": [
       "{'business_id': '5r6-G9C4YLbC7Ziz57l3rQ',\n",
       " 'character count': 244,\n",
       " 'cool': 0,\n",
       " 'date': '2013-02-09',\n",
       " 'funny': 0,\n",
       " 'review_id': 'w41ZS9shepfO3uEyhXEWuQ',\n",
       " 'stars': 3,\n",
       " 'text': \"Not bad!! Love that there is a gluten-free, vegan version of the cheese curds and gravy!!\\n\\nHaven't done the poutine taste test yet with smoke's but Im excited to see which is better. However poutini's might win as they are vegan and gluten-free\",\n",
       " 'useful': 1,\n",
       " 'user_id': 'u0LXt3Uea_GidxRW1xcsfg'}"
      ]
     },
     "execution_count": 4,
     "metadata": {},
     "output_type": "execute_result"
    }
   ],
   "source": [
    "# A review with \"useful\" votes\n",
    "useful[0]"
   ]
  },
  {
   "cell_type": "code",
   "execution_count": 5,
   "metadata": {},
   "outputs": [
    {
     "data": {
      "text/plain": [
       "{'business_id': '0W4lkclzZThpx3V65bVgig',\n",
       " 'character count': 289,\n",
       " 'cool': 0,\n",
       " 'date': '2016-05-28',\n",
       " 'funny': 0,\n",
       " 'review_id': 'v0i_UHJMo_hPBq9bxWvW4w',\n",
       " 'stars': 5,\n",
       " 'text': \"Love the staff, love the meat, love the place. Prepare for a long line around lunch or dinner hours. \\n\\nThey ask you how you want you meat, lean or something maybe, I can't remember. Just say you don't want it too fatty. \\n\\nGet a half sour pickle and a hot pepper. Hand cut french fries too.\",\n",
       " 'useful': 0,\n",
       " 'user_id': 'bv2nCi5Qv5vroFiqKGopiw'}"
      ]
     },
     "execution_count": 5,
     "metadata": {},
     "output_type": "execute_result"
    }
   ],
   "source": [
    "# A review with 0 \"useful\" votes\n",
    "useless[0]"
   ]
  },
  {
   "cell_type": "markdown",
   "metadata": {},
   "source": [
    "## 1.2 Find the distribution of \"useful\" votes\n"
   ]
  },
  {
   "cell_type": "code",
   "execution_count": 6,
   "metadata": {
    "collapsed": true
   },
   "outputs": [],
   "source": [
    "distribution = {}\n",
    "for d in useful:\n",
    "    if d[\"useful\"] not in distribution:\n",
    "        distribution[d[\"useful\"]] = 1\n",
    "    else:\n",
    "        distribution[d[\"useful\"]] += 1"
   ]
  },
  {
   "cell_type": "code",
   "execution_count": 7,
   "metadata": {},
   "outputs": [
    {
     "data": {
      "image/png": "[encoded data removed]",
      "text/plain": [
       "<matplotlib.figure.Figure at 0x1c2b055f8d0>"
      ]
     },
     "metadata": {},
     "output_type": "display_data"
    }
   ],
   "source": [
    "pairs = distribution.items()\n",
    "X = [t[0] for t in pairs]\n",
    "Y = [t[1] for t in pairs]\n",
    "position = range(len(pairs))\n",
    "\n",
    "plt.plot(X, Y)\n",
    "plt.show()"
   ]
  },
  {
   "cell_type": "markdown",
   "metadata": {},
   "source": [
    "We hypothesized that reviews with two or more votes may be more convincing and thus decided to only keep these reviews."
   ]
  },
  {
   "cell_type": "markdown",
   "metadata": {},
   "source": [
    "## 1.3 Find distribution of dates\n"
   ]
  },
  {
   "cell_type": "code",
   "execution_count": 8,
   "metadata": {
    "collapsed": true
   },
   "outputs": [],
   "source": [
    "dates = {}\n",
    "data = useful+useless\n",
    "for d in data:\n",
    "    dateList = d[\"date\"].split(\"-\")\n",
    "    date = dateList[0] + dateList[1]\n",
    "    \n",
    "    if date not in dates:\n",
    "        dates[date] = 1\n",
    "    else:\n",
    "        dates[date] += 1\n",
    "\n",
    "dateTuples = list(dates.items())\n",
    "sortedDates = sorted(dateTuples, key=lambda tup: tup[0])"
   ]
  },
  {
   "cell_type": "code",
   "execution_count": 9,
   "metadata": {},
   "outputs": [
    {
     "data": {
      "image/png": "[encoded data removed]",
      "text/plain": [
       "<matplotlib.figure.Figure at 0x1c2b07aa358>"
      ]
     },
     "metadata": {},
     "output_type": "display_data"
    }
   ],
   "source": [
    "# Distribution of dates\n",
    "date_X = [t[0] for t in sortedDates]\n",
    "date_Y = [t[1] for t in sortedDates]\n",
    "\n",
    "plt.plot(date_X, date_Y)\n",
    "plt.show()"
   ]
  },
  {
   "cell_type": "code",
   "execution_count": 10,
   "metadata": {
    "collapsed": true
   },
   "outputs": [],
   "source": [
    "# Clean out data before 201501\n",
    "quad = int(len(sortedDates)/4)\n",
    "mid = int(len(sortedDates)/2)\n",
    "data_since_2015 = sortedDates[quad+mid+3:]"
   ]
  },
  {
   "cell_type": "code",
   "execution_count": 11,
   "metadata": {},
   "outputs": [
    {
     "data": {
      "text/plain": [
       "791375"
      ]
     },
     "execution_count": 11,
     "metadata": {},
     "output_type": "execute_result"
    }
   ],
   "source": [
    "# Number of data since 2015\n",
    "total = 0\n",
    "for tup in data_since_2015:\n",
    "    total += tup[1]\n",
    "    \n",
    "total"
   ]
  },
  {
   "cell_type": "markdown",
   "metadata": {},
   "source": [
    "In order to make the most relevant prediction, we thus decided to only keep data after January 2015."
   ]
  },
  {
   "cell_type": "markdown",
   "metadata": {},
   "source": [
    "# 2. Cleaning the data\n",
    "### Here we decide to clean the data again, keeping only reviews with two or more votes after January 2015."
   ]
  },
  {
   "cell_type": "markdown",
   "metadata": {},
   "source": [
    "## 2.1 Clean the data by date\n"
   ]
  },
  {
   "cell_type": "code",
   "execution_count": 12,
   "metadata": {
    "collapsed": true
   },
   "outputs": [],
   "source": [
    "dateDict = {}\n",
    "for tup in data_since_2015:\n",
    "    date = tup[0]\n",
    "    freq = tup[1]\n",
    "    if date not in dateDict:\n",
    "        dateDict[date] = freq"
   ]
  },
  {
   "cell_type": "code",
   "execution_count": 13,
   "metadata": {
    "collapsed": true
   },
   "outputs": [],
   "source": [
    "def process_data_by_date(dataset):\n",
    "    new = []\n",
    "    for d in dataset:\n",
    "        dateList = d[\"date\"].split(\"-\")\n",
    "        date = dateList[0] + dateList[1]\n",
    "        if date in dateDict:\n",
    "            new.append(d)\n",
    "    return new"
   ]
  },
  {
   "cell_type": "code",
   "execution_count": 14,
   "metadata": {},
   "outputs": [
    {
     "name": "stdout",
     "output_type": "stream",
     "text": [
      "341882 449493\n"
     ]
    }
   ],
   "source": [
    "newer_useful = process_data_by_date(useful)\n",
    "newer_useless = process_data_by_date(useless)\n",
    "print(len(newer_useful), len(newer_useless))"
   ]
  },
  {
   "cell_type": "markdown",
   "metadata": {},
   "source": [
    "## 2.2 Clean the useful data by votes"
   ]
  },
  {
   "cell_type": "code",
   "execution_count": 15,
   "metadata": {
    "collapsed": true
   },
   "outputs": [],
   "source": [
    "def process_data_by_vote(dataset):\n",
    "    new = []\n",
    "    for d in dataset:\n",
    "        if d[\"useful\"] >= 2:\n",
    "            new.append(d)\n",
    "    return new"
   ]
  },
  {
   "cell_type": "code",
   "execution_count": 16,
   "metadata": {},
   "outputs": [
    {
     "data": {
      "text/plain": [
       "123477"
      ]
     },
     "execution_count": 16,
     "metadata": {},
     "output_type": "execute_result"
    }
   ],
   "source": [
    "more_useful = process_data_by_vote(newer_useful)\n",
    "len(more_useful)"
   ]
  },
  {
   "cell_type": "markdown",
   "metadata": {},
   "source": [
    "To maintain equal number of training/testing data from two categories, we decided to keep only 123477 useless data as well.We pick the first 123477 data after shuffling"
   ]
  },
  {
   "cell_type": "code",
   "execution_count": 17,
   "metadata": {},
   "outputs": [
    {
     "name": "stdout",
     "output_type": "stream",
     "text": [
      "123477 123477\n"
     ]
    }
   ],
   "source": [
    "from random import shuffle\n",
    "shuffle(newer_useless)\n",
    "more_useless = newer_useless[:123477]\n",
    "print(len(more_useful), len(more_useless))"
   ]
  },
  {
   "cell_type": "markdown",
   "metadata": {},
   "source": [
    "# 3. Finding features and training the model"
   ]
  },
  {
   "cell_type": "markdown",
   "metadata": {},
   "source": [
    "## 3.1 Find the words with highest frequencies"
   ]
  },
  {
   "cell_type": "code",
   "execution_count": 18,
   "metadata": {
    "collapsed": true
   },
   "outputs": [],
   "source": [
    "import re\n",
    "from collections import Counter\n",
    "import nltk\n",
    "from nltk import word_tokenize"
   ]
  },
  {
   "cell_type": "code",
   "execution_count": 19,
   "metadata": {
    "collapsed": true
   },
   "outputs": [],
   "source": [
    "nonPunct = re.compile('.*[A-Za-z0-9].*')"
   ]
  },
  {
   "cell_type": "code",
   "execution_count": 20,
   "metadata": {
    "collapsed": true
   },
   "outputs": [],
   "source": [
    "# Count punctuation in text of each data\n",
    "def text_count_punctuations(sentence):\n",
    "    tokens = word_tokenize(sentence)\n",
    "    punc = [w for w in tokens if not nonPunct.match(w)]\n",
    "    exc = [w for w in punc if w == \"!\"]\n",
    "    return (len(punc), len(exc))\n",
    "\n",
    "def count_punctuations(dataset):\n",
    "    for d in dataset:\n",
    "        text = d[\"text\"]\n",
    "        num_punc, num_exc = text_count_punctuations(text)\n",
    "        if \"punctuations\" not in d:\n",
    "            d[\"punctuations\"] = num_punc\n",
    "        if \"exclamations\" not in d:\n",
    "            d[\"exclamations\"] = num_exc\n",
    "    return dataset\n",
    "\n",
    "useful_with_punc = count_punctuations(more_useful)\n",
    "useless_with_punc = count_punctuations(more_useless)"
   ]
  },
  {
   "cell_type": "code",
   "execution_count": 21,
   "metadata": {
    "collapsed": true
   },
   "outputs": [],
   "source": [
    "from nltk.corpus import stopwords\n",
    "\n",
    "stop_words = set(stopwords.words('english'))\n",
    "\n",
    "def remove_stop_words_and_punc(sentence):\n",
    "    word_tokens = word_tokenize(sentence.lower())\n",
    "    filtered_sentence = [w for w in word_tokens if not w in stop_words and nonPunct.match(w)]\n",
    "    return filtered_sentence"
   ]
  },
  {
   "cell_type": "code",
   "execution_count": 22,
   "metadata": {
    "collapsed": true
   },
   "outputs": [],
   "source": [
    "# Find words with highest frequencies in both \"useful\" and \"useless\" dataset\n",
    "from nltk.probability import FreqDist\n",
    "\n",
    "def high_freq_words(dataset):\n",
    "    texts = []\n",
    "    for d in dataset:\n",
    "        noStopAndPunc = remove_stop_words_and_punc(d[\"text\"])\n",
    "        texts += noStopAndPunc\n",
    "    fdist = FreqDist(texts)\n",
    "    return fdist"
   ]
  },
  {
   "cell_type": "code",
   "execution_count": 24,
   "metadata": {},
   "outputs": [
    {
     "data": {
      "text/plain": [
       "[('food', 74884),\n",
       " ('place', 58019),\n",
       " (\"n't\", 55829),\n",
       " ('good', 54540),\n",
       " (\"'s\", 47263),\n",
       " ('great', 45809),\n",
       " ('service', 42190),\n",
       " ('back', 28809),\n",
       " ('like', 26668),\n",
       " ('time', 25181),\n",
       " ('get', 23357),\n",
       " ('go', 22925),\n",
       " ('one', 22412),\n",
       " ('really', 21608),\n",
       " ('would', 21333),\n",
       " ('chicken', 19527),\n",
       " ('ordered', 17887),\n",
       " ('best', 17874),\n",
       " ('delicious', 17857),\n",
       " ('restaurant', 17019),\n",
       " (\"'ve\", 16829),\n",
       " ('also', 16755),\n",
       " ('got', 16594),\n",
       " ('order', 16400),\n",
       " ('nice', 16161),\n",
       " ('love', 16062),\n",
       " ('try', 16010),\n",
       " ('friendly', 15932),\n",
       " ('definitely', 15150),\n",
       " ('staff', 14903),\n",
       " ('pizza', 14762),\n",
       " ('come', 14529),\n",
       " ('amazing', 14518),\n",
       " ('always', 14102),\n",
       " ('menu', 13705),\n",
       " ('came', 13652),\n",
       " ('even', 13464),\n",
       " ('us', 13411),\n",
       " ('well', 13177),\n",
       " (\"'m\", 12673),\n",
       " ('fresh', 12545),\n",
       " ('never', 11757),\n",
       " ('little', 11205),\n",
       " ('lunch', 10853),\n",
       " ('better', 10785),\n",
       " ('eat', 10399),\n",
       " ('wait', 10293),\n",
       " ('could', 10179),\n",
       " ('pretty', 10133),\n",
       " ('first', 10126),\n",
       " ('went', 9904),\n",
       " ('everything', 9829),\n",
       " ('much', 9819),\n",
       " ('recommend', 9739),\n",
       " ('ever', 9582),\n",
       " ('bar', 9576),\n",
       " ('people', 9121),\n",
       " ('salad', 8939),\n",
       " ('cheese', 8916),\n",
       " ('made', 8900),\n",
       " ('experience', 8810),\n",
       " ('make', 8741),\n",
       " ('sauce', 8610),\n",
       " ('new', 8462),\n",
       " ('location', 8351),\n",
       " ('bad', 8215),\n",
       " (\"'re\", 8018),\n",
       " ('way', 7965),\n",
       " ('tried', 7919),\n",
       " ('super', 7898),\n",
       " ('price', 7866),\n",
       " ('going', 7754),\n",
       " ('night', 7695),\n",
       " ('sure', 7646),\n",
       " ('dinner', 7603),\n",
       " ('worth', 7599),\n",
       " ('times', 7581),\n",
       " ('fries', 7529),\n",
       " ('awesome', 7518),\n",
       " ('meal', 7505),\n",
       " ('small', 7459),\n",
       " ('excellent', 7448),\n",
       " ('quality', 7434),\n",
       " ('want', 7415),\n",
       " ('ca', 7350),\n",
       " ('drinks', 7219),\n",
       " ('two', 7166),\n",
       " (\"'ll\", 7157),\n",
       " ('rice', 7138),\n",
       " ('burger', 7137),\n",
       " ('right', 7122),\n",
       " ('sushi', 7116),\n",
       " ('give', 7091),\n",
       " ('say', 7010),\n",
       " ('still', 6993),\n",
       " ('favorite', 6942),\n",
       " ('taste', 6901),\n",
       " ('tasty', 6874),\n",
       " ('area', 6843),\n",
       " ('hot', 6839),\n",
       " ('atmosphere', 6793),\n",
       " ('prices', 6788),\n",
       " ('breakfast', 6747),\n",
       " ('minutes', 6729),\n",
       " ('every', 6725),\n",
       " ('take', 6656),\n",
       " ('happy', 6620),\n",
       " ('know', 6596),\n",
       " ('2', 6588),\n",
       " ('sandwich', 6565),\n",
       " ('table', 6550),\n",
       " ('meat', 6512),\n",
       " ('server', 6456),\n",
       " ('spot', 6426),\n",
       " ('think', 6281),\n",
       " ('side', 6159),\n",
       " ('many', 6133),\n",
       " ('around', 6115),\n",
       " ('vegas', 6065),\n",
       " ('took', 6048),\n",
       " ('day', 6038),\n",
       " ('coming', 6017),\n",
       " ('bit', 6004),\n",
       " ('coffee', 5919),\n",
       " ('fried', 5909),\n",
       " ('hour', 5871),\n",
       " ('5', 5859),\n",
       " ('next', 5785),\n",
       " ('long', 5733),\n",
       " ('clean', 5683),\n",
       " ('stars', 5679),\n",
       " ('nothing', 5658),\n",
       " ('last', 5604),\n",
       " ('customer', 5552),\n",
       " ('drink', 5546),\n",
       " ('said', 5516),\n",
       " ('beef', 5436),\n",
       " ('lot', 5436),\n",
       " ('beer', 5418),\n",
       " ('fast', 5405),\n",
       " ('since', 5368),\n",
       " ('flavor', 5317),\n",
       " ('soup', 5270),\n",
       " ('perfect', 5245),\n",
       " ('3', 5177),\n",
       " ('though', 5155),\n",
       " ('disappointed', 5138),\n",
       " ('special', 5118),\n",
       " ('something', 5102),\n",
       " ('big', 5097),\n",
       " ('places', 5083),\n",
       " ('find', 5044),\n",
       " ('see', 5036),\n",
       " ('home', 4995),\n",
       " ('sweet', 4968),\n",
       " ('tacos', 4925),\n",
       " ('thing', 4857),\n",
       " ('fish', 4830),\n",
       " ('another', 4828),\n",
       " ('visit', 4812),\n",
       " ('friends', 4749),\n",
       " ('asked', 4746),\n",
       " ('loved', 4716),\n",
       " ('quick', 4715),\n",
       " ('spicy', 4714),\n",
       " ('different', 4696),\n",
       " ('family', 4677),\n",
       " ('pork', 4677),\n",
       " ('busy', 4669),\n",
       " ('tasted', 4655),\n",
       " ('dishes', 4629),\n",
       " ('bread', 4618),\n",
       " ('looking', 4542),\n",
       " ('shrimp', 4501),\n",
       " ('options', 4452),\n",
       " ('steak', 4439),\n",
       " ('wo', 4431),\n",
       " ('portions', 4427),\n",
       " ('huge', 4405),\n",
       " ('selection', 4343),\n",
       " ('cooked', 4314),\n",
       " ('enough', 4308),\n",
       " ('highly', 4293),\n",
       " ('must', 4278),\n",
       " ('check', 4228),\n",
       " ('top', 4204),\n",
       " (\"'d\", 4182),\n",
       " ('enjoyed', 4174),\n",
       " ('feel', 4150),\n",
       " ('town', 4143),\n",
       " ('decent', 4141),\n",
       " ('cold', 4120),\n",
       " ('need', 4104),\n",
       " ('overall', 4100),\n",
       " ('waitress', 4080),\n",
       " ('inside', 4067),\n",
       " ('open', 4021),\n",
       " ('large', 4020),\n",
       " ('away', 4014),\n",
       " ('full', 4007),\n",
       " ('wings', 3972),\n",
       " ('10', 3951),\n",
       " ('4', 3935),\n",
       " ('owner', 3909),\n",
       " ('work', 3889),\n",
       " ('eating', 3857),\n",
       " ('however', 3845),\n",
       " ('found', 3839),\n",
       " ('absolutely', 3838),\n",
       " ('fantastic', 3809),\n",
       " ('free', 3776),\n",
       " ('wanted', 3761),\n",
       " ('told', 3722),\n",
       " ('friend', 3718),\n",
       " ('probably', 3696),\n",
       " ('half', 3675),\n",
       " ('tea', 3674),\n",
       " ('old', 3672),\n",
       " ('dish', 3657),\n",
       " ('ask', 3638),\n",
       " ('enjoy', 3607),\n",
       " ('left', 3597),\n",
       " ('everyone', 3576),\n",
       " ('items', 3572),\n",
       " ('quite', 3565),\n",
       " ('years', 3471),\n",
       " ('else', 3453),\n",
       " ('served', 3445),\n",
       " ('ok', 3427),\n",
       " ('anything', 3423),\n",
       " ('fun', 3406),\n",
       " ('star', 3389),\n",
       " ('thai', 3376),\n",
       " ('attentive', 3374),\n",
       " ('today', 3371),\n",
       " ('husband', 3317),\n",
       " ('stop', 3315),\n",
       " ('high', 3306),\n",
       " ('far', 3299),\n",
       " ('bbq', 3294),\n",
       " ('restaurants', 3287),\n",
       " ('manager', 3282),\n",
       " ('reviews', 3278),\n",
       " ('slow', 3254),\n",
       " ('house', 3238),\n",
       " ('kind', 3236),\n",
       " ('horrible', 3230),\n",
       " ('hard', 3215),\n",
       " ('money', 3215),\n",
       " ('things', 3214),\n",
       " ('usually', 3208),\n",
       " ('review', 3201),\n",
       " ('used', 3196),\n",
       " ('worst', 3194),\n",
       " ('tables', 3193),\n",
       " ('return', 3172),\n",
       " ('wine', 3171),\n",
       " ('authentic', 3171),\n",
       " ('line', 3168),\n",
       " ('rolls', 3139),\n",
       " ('wrong', 3137),\n",
       " ('wonderful', 3124),\n",
       " ('business', 3117),\n",
       " ('rude', 3103),\n",
       " ('cool', 3102),\n",
       " ('cream', 3093),\n",
       " ('terrible', 3087),\n",
       " ('actually', 3058),\n",
       " ('maybe', 3058),\n",
       " ('roll', 3030),\n",
       " ('buffet', 3028),\n",
       " ('outside', 3024),\n",
       " ('decided', 3014),\n",
       " ('let', 3001),\n",
       " ('chips', 2981),\n",
       " ('mexican', 2980),\n",
       " ('almost', 2954),\n",
       " ('close', 2950),\n",
       " ('gave', 2938),\n",
       " ('yummy', 2913),\n",
       " ('ice', 2898),\n",
       " ('especially', 2885),\n",
       " ('look', 2884),\n",
       " ('1', 2872),\n",
       " ('put', 2862),\n",
       " ('extremely', 2855),\n",
       " ('waited', 2852),\n",
       " ('thought', 2845),\n",
       " ('bowl', 2843),\n",
       " ('decor', 2822),\n",
       " ('average', 2803),\n",
       " ('extra', 2798),\n",
       " ('burgers', 2791),\n",
       " ('plate', 2772),\n",
       " ('portion', 2767),\n",
       " ('music', 2756),\n",
       " ('waiting', 2750),\n",
       " ('dessert', 2747),\n",
       " ('without', 2732),\n",
       " ('dry', 2725),\n",
       " ('chinese', 2714),\n",
       " ('dining', 2713),\n",
       " ('trying', 2709),\n",
       " ('20', 2705),\n",
       " ('bacon', 2705),\n",
       " ('getting', 2679),\n",
       " ('yelp', 2658),\n",
       " ('wife', 2648),\n",
       " ('egg', 2648),\n",
       " ('seating', 2643),\n",
       " ('okay', 2631),\n",
       " ('style', 2625),\n",
       " ('couple', 2622),\n",
       " ('lots', 2622),\n",
       " ('water', 2613),\n",
       " ('customers', 2606),\n",
       " ('sandwiches', 2593),\n",
       " ('makes', 2592),\n",
       " ('point', 2591),\n",
       " ('brunch', 2579),\n",
       " ('pho', 2578),\n",
       " ('stopped', 2576),\n",
       " ('week', 2567),\n",
       " ('wish', 2565),\n",
       " ('local', 2564),\n",
       " ('comes', 2557),\n",
       " ('least', 2556),\n",
       " ('ate', 2538),\n",
       " ('looked', 2530),\n",
       " ('eggs', 2529),\n",
       " ('live', 2526),\n",
       " ('keep', 2520),\n",
       " ('taco', 2518),\n",
       " ('real', 2506),\n",
       " ('drive', 2506),\n",
       " ('waiter', 2504),\n",
       " ('sat', 2502),\n",
       " ('care', 2498),\n",
       " ('reasonable', 2487),\n",
       " ('noodles', 2483),\n",
       " ('finally', 2480),\n",
       " ('three', 2474),\n",
       " ('green', 2463),\n",
       " ('size', 2459),\n",
       " ('priced', 2456),\n",
       " ('patio', 2454),\n",
       " ('done', 2453),\n",
       " ('bland', 2440),\n",
       " ('cheap', 2439),\n",
       " ('walked', 2436),\n",
       " ('soon', 2431),\n",
       " ('pay', 2430),\n",
       " ('impressed', 2396),\n",
       " ('whole', 2389),\n",
       " ('italian', 2384),\n",
       " ('tell', 2384),\n",
       " ('hours', 2382),\n",
       " ('serve', 2379),\n",
       " ('crispy', 2369),\n",
       " ('helpful', 2366),\n",
       " ('delivery', 2348),\n",
       " ('less', 2348),\n",
       " ('oh', 2345),\n",
       " ('street', 2344),\n",
       " ('second', 2343),\n",
       " ('variety', 2342),\n",
       " ('plus', 2339),\n",
       " ('sit', 2309),\n",
       " ('fan', 2305),\n",
       " ('parking', 2294),\n",
       " ('servers', 2293),\n",
       " ('seated', 2260),\n",
       " ('expensive', 2254),\n",
       " ('either', 2242),\n",
       " ('crab', 2238),\n",
       " ('bring', 2236),\n",
       " ('ingredients', 2229),\n",
       " ('called', 2224),\n",
       " ('regular', 2211),\n",
       " ('person', 2210),\n",
       " ('garlic', 2209),\n",
       " ('expect', 2209),\n",
       " ('group', 2205),\n",
       " ('use', 2204),\n",
       " ('room', 2201),\n",
       " ('perfectly', 2197),\n",
       " ('burrito', 2186),\n",
       " ('late', 2185),\n",
       " ('ramen', 2160),\n",
       " ('15', 2156),\n",
       " ('curry', 2152),\n",
       " ('strip', 2131),\n",
       " ('yet', 2130),\n",
       " ('kids', 2125),\n",
       " ('ordering', 2124),\n",
       " ('instead', 2118),\n",
       " ('red', 2116),\n",
       " ('party', 2107),\n",
       " ('amount', 2098),\n",
       " ('liked', 2091),\n",
       " ('several', 2090),\n",
       " ('seafood', 2089),\n",
       " ('seemed', 2088),\n",
       " ('pasta', 2085),\n",
       " ('brought', 2080),\n",
       " ('ambiance', 2075),\n",
       " ('french', 2074),\n",
       " ('chef', 2071),\n",
       " ('salsa', 2062),\n",
       " ('wow', 2055),\n",
       " ('glad', 2054),\n",
       " ('part', 2051),\n",
       " ('salmon', 2046),\n",
       " ('warm', 2045),\n",
       " ('flavorful', 2042),\n",
       " ('grilled', 2039),\n",
       " ('felt', 2022),\n",
       " ('kitchen', 2012),\n",
       " ('door', 1996),\n",
       " ('guy', 1991),\n",
       " ('crust', 1985),\n",
       " ('reason', 1981),\n",
       " ('twice', 1971),\n",
       " ('deal', 1967),\n",
       " ('seems', 1964),\n",
       " ('offer', 1954),\n",
       " ('front', 1950),\n",
       " ('beans', 1948),\n",
       " ('name', 1940),\n",
       " ('30', 1929),\n",
       " ('vegan', 1911),\n",
       " ('sunday', 1911),\n",
       " ('end', 1910),\n",
       " ('leave', 1906),\n",
       " ('employees', 1906),\n",
       " ('flavors', 1901),\n",
       " ('may', 1897),\n",
       " ('often', 1895),\n",
       " ('pick', 1894),\n",
       " ('anyone', 1891),\n",
       " ('chocolate', 1890),\n",
       " ('shop', 1888),\n",
       " ('thank', 1886),\n",
       " ('indian', 1884),\n",
       " ('bite', 1880),\n",
       " ('looks', 1871),\n",
       " ('toppings', 1869),\n",
       " ('yes', 1866),\n",
       " ('bartender', 1854),\n",
       " ('orders', 1847),\n",
       " ('mac', 1837),\n",
       " ('someone', 1836),\n",
       " ('white', 1826),\n",
       " ('beautiful', 1821),\n",
       " ('opened', 1820),\n",
       " ('call', 1820),\n",
       " ('potatoes', 1818),\n",
       " ('walk', 1807),\n",
       " ('choice', 1803),\n",
       " ('choose', 1801),\n",
       " ('working', 1794),\n",
       " ('store', 1792),\n",
       " ('cute', 1790),\n",
       " ('recommended', 1786),\n",
       " ('lobster', 1785),\n",
       " ('las', 1782),\n",
       " ('plenty', 1781),\n",
       " ('might', 1771),\n",
       " ('appetizer', 1760),\n",
       " ('saturday', 1758),\n",
       " ('potato', 1753),\n",
       " ('mediocre', 1751),\n",
       " ('overpriced', 1748),\n",
       " ('guys', 1747),\n",
       " ('hungry', 1744),\n",
       " ('making', 1744),\n",
       " ('poor', 1740),\n",
       " ('course', 1731),\n",
       " ('pricey', 1723),\n",
       " ('add', 1714),\n",
       " ('cake', 1711),\n",
       " ('6', 1699),\n",
       " ('gem', 1698),\n",
       " ('saw', 1694),\n",
       " ('ago', 1688),\n",
       " ('start', 1679),\n",
       " ('tastes', 1677),\n",
       " ('fine', 1668),\n",
       " ('salty', 1664),\n",
       " ('although', 1663),\n",
       " ('eaten', 1662),\n",
       " ('specials', 1661),\n",
       " ('beers', 1661),\n",
       " ('counter', 1656),\n",
       " ('later', 1655),\n",
       " ('meals', 1651),\n",
       " ('guess', 1650),\n",
       " ('sitting', 1630),\n",
       " ('please', 1627),\n",
       " ('tender', 1624)]"
      ]
     },
     "execution_count": 24,
     "metadata": {},
     "output_type": "execute_result"
    }
   ],
   "source": [
    "fdist_useful = high_freq_words(useful_with_punc)\n",
    "fdist_useful.most_common(500)"
   ]
  },
  {
   "cell_type": "code",
   "execution_count": 25,
   "metadata": {},
   "outputs": [
    {
     "data": {
      "text/plain": [
       "[('food', 73269),\n",
       " ('good', 54699),\n",
       " ('great', 54249),\n",
       " ('place', 49689),\n",
       " ('service', 42025),\n",
       " (\"n't\", 41432),\n",
       " (\"'s\", 35412),\n",
       " ('back', 24846),\n",
       " ('time', 22867),\n",
       " ('go', 20305),\n",
       " ('like', 19908),\n",
       " ('best', 19270),\n",
       " ('delicious', 18774),\n",
       " ('really', 18373),\n",
       " ('get', 18237),\n",
       " ('would', 18132),\n",
       " ('one', 17701),\n",
       " ('love', 16962),\n",
       " ('chicken', 16694),\n",
       " ('amazing', 16620),\n",
       " ('friendly', 16275),\n",
       " ('always', 15964),\n",
       " ('nice', 15462),\n",
       " ('staff', 15340),\n",
       " ('definitely', 15023),\n",
       " ('restaurant', 14425),\n",
       " ('ordered', 14253),\n",
       " (\"'ve\", 14126),\n",
       " ('also', 13739),\n",
       " ('order', 13375),\n",
       " ('try', 12949),\n",
       " ('got', 12924),\n",
       " ('pizza', 12409),\n",
       " ('come', 11813),\n",
       " ('well', 11334),\n",
       " ('menu', 11278),\n",
       " ('fresh', 11245),\n",
       " ('us', 10912),\n",
       " ('recommend', 10655),\n",
       " ('little', 10241),\n",
       " ('came', 10237),\n",
       " ('even', 10108),\n",
       " ('wait', 9593),\n",
       " ('eat', 9493),\n",
       " ('lunch', 9316),\n",
       " ('excellent', 9286),\n",
       " ('first', 9126),\n",
       " (\"'m\", 8946),\n",
       " ('better', 8891),\n",
       " ('went', 8832),\n",
       " ('everything', 8742),\n",
       " ('never', 8714),\n",
       " ('awesome', 8620),\n",
       " ('atmosphere', 8411),\n",
       " ('ever', 8312),\n",
       " ('could', 8252),\n",
       " ('pretty', 7933),\n",
       " ('salad', 7781),\n",
       " ('experience', 7761),\n",
       " ('much', 7650),\n",
       " ('made', 7635),\n",
       " ('cheese', 7281),\n",
       " ('burger', 7208),\n",
       " ('favorite', 7172),\n",
       " ('dinner', 7074),\n",
       " ('worth', 7069),\n",
       " ('people', 7056),\n",
       " ('breakfast', 7026),\n",
       " ('price', 6992),\n",
       " ('make', 6984),\n",
       " ('fries', 6950),\n",
       " ('bar', 6852),\n",
       " ('sauce', 6838),\n",
       " ('times', 6811),\n",
       " ('sushi', 6800),\n",
       " ('location', 6764),\n",
       " ('meal', 6758),\n",
       " ('super', 6617),\n",
       " ('tried', 6513),\n",
       " ('vegas', 6472),\n",
       " ('server', 6433),\n",
       " ('night', 6286),\n",
       " ('tasty', 6228),\n",
       " ('sure', 6219),\n",
       " (\"'re\", 6140),\n",
       " ('quality', 6126),\n",
       " ('drinks', 6124),\n",
       " ('every', 6097),\n",
       " ('going', 6037),\n",
       " ('ca', 6017),\n",
       " ('bad', 6010),\n",
       " ('prices', 5820),\n",
       " ('way', 5798),\n",
       " ('small', 5774),\n",
       " ('hot', 5691),\n",
       " ('new', 5682),\n",
       " ('spot', 5576),\n",
       " ('taste', 5518),\n",
       " ('bit', 5473),\n",
       " ('area', 5468),\n",
       " ('right', 5422),\n",
       " ('fast', 5400),\n",
       " ('give', 5391),\n",
       " ('sandwich', 5388),\n",
       " ('rice', 5386),\n",
       " ('happy', 5351),\n",
       " ('say', 5312),\n",
       " (\"'ll\", 5253),\n",
       " ('want', 5200),\n",
       " ('coming', 5181),\n",
       " ('take', 5154),\n",
       " ('two', 5153),\n",
       " ('loved', 5147),\n",
       " ('meat', 5141),\n",
       " ('still', 5074),\n",
       " ('table', 5038),\n",
       " ('family', 4994),\n",
       " ('took', 4990),\n",
       " ('next', 4933),\n",
       " ('tacos', 4930),\n",
       " ('fried', 4923),\n",
       " ('day', 4923),\n",
       " ('beer', 4874),\n",
       " ('minutes', 4867),\n",
       " ('clean', 4865),\n",
       " ('highly', 4828),\n",
       " ('side', 4799),\n",
       " ('perfect', 4798),\n",
       " ('many', 4774),\n",
       " ('around', 4757),\n",
       " ('long', 4755),\n",
       " ('stars', 4733),\n",
       " ('beef', 4709),\n",
       " ('coffee', 4704),\n",
       " ('5', 4659),\n",
       " ('2', 4645),\n",
       " ('though', 4641),\n",
       " ('know', 4621),\n",
       " ('customer', 4609),\n",
       " ('quick', 4541),\n",
       " ('soup', 4504),\n",
       " ('busy', 4496),\n",
       " ('disappointed', 4491),\n",
       " ('visit', 4475),\n",
       " ('flavor', 4394),\n",
       " ('think', 4378),\n",
       " ('last', 4357),\n",
       " ('places', 4354),\n",
       " ('special', 4332),\n",
       " ('portions', 4330),\n",
       " ('fantastic', 4319),\n",
       " ('hour', 4303),\n",
       " ('big', 4286),\n",
       " ('lot', 4252),\n",
       " ('home', 4221),\n",
       " ('steak', 4211),\n",
       " ('selection', 4207),\n",
       " ('fish', 4097),\n",
       " ('must', 4082),\n",
       " ('something', 4064),\n",
       " ('sweet', 4052),\n",
       " ('pork', 4048),\n",
       " ('enjoyed', 4044),\n",
       " ('town', 3985),\n",
       " ('find', 3965),\n",
       " ('different', 3963),\n",
       " ('drink', 3956),\n",
       " ('nothing', 3941),\n",
       " ('spicy', 3939),\n",
       " ('friends', 3899),\n",
       " ('since', 3885),\n",
       " ('3', 3879),\n",
       " ('overall', 3865),\n",
       " ('attentive', 3844),\n",
       " ('shrimp', 3824),\n",
       " ('cooked', 3796),\n",
       " ('dishes', 3773),\n",
       " ('looking', 3767),\n",
       " ('tasted', 3690),\n",
       " ('thing', 3689),\n",
       " ('wonderful', 3680),\n",
       " ('bread', 3660),\n",
       " ('waitress', 3641),\n",
       " ('options', 3609),\n",
       " ('top', 3580),\n",
       " ('said', 3574),\n",
       " ('enough', 3565),\n",
       " ('absolutely', 3559),\n",
       " ('huge', 3495),\n",
       " ('large', 3464),\n",
       " ('wings', 3463),\n",
       " ('thai', 3459),\n",
       " ('see', 3383),\n",
       " ('another', 3365),\n",
       " ('husband', 3363),\n",
       " ('fun', 3357),\n",
       " ('feel', 3347),\n",
       " ('everyone', 3304),\n",
       " ('however', 3283),\n",
       " ('decent', 3272),\n",
       " ('eating', 3178),\n",
       " (\"'d\", 3132),\n",
       " ('work', 3125),\n",
       " ('asked', 3102),\n",
       " ('found', 3099),\n",
       " ('cold', 3097),\n",
       " ('years', 3088),\n",
       " ('wo', 3081),\n",
       " ('4', 3078),\n",
       " ('enjoy', 3035),\n",
       " ('ask', 3028),\n",
       " ('dish', 3022),\n",
       " ('probably', 3020),\n",
       " ('full', 3013),\n",
       " ('far', 2997),\n",
       " ('burgers', 2963),\n",
       " ('need', 2948),\n",
       " ('mexican', 2936),\n",
       " ('ok', 2930),\n",
       " ('yummy', 2897),\n",
       " ('authentic', 2891),\n",
       " ('usually', 2883),\n",
       " ('away', 2833),\n",
       " ('stop', 2822),\n",
       " ('quite', 2820),\n",
       " ('slow', 2818),\n",
       " ('kind', 2815),\n",
       " ('especially', 2807),\n",
       " ('bbq', 2804),\n",
       " ('check', 2793),\n",
       " ('inside', 2781),\n",
       " ('today', 2778),\n",
       " ('free', 2770),\n",
       " ('chips', 2769),\n",
       " ('10', 2763),\n",
       " ('rolls', 2739),\n",
       " ('wife', 2719),\n",
       " ('friend', 2706),\n",
       " ('restaurants', 2701),\n",
       " ('return', 2694),\n",
       " ('tea', 2667),\n",
       " ('anything', 2653),\n",
       " ('else', 2649),\n",
       " ('served', 2637),\n",
       " ('old', 2632),\n",
       " ('open', 2615),\n",
       " ('hard', 2612),\n",
       " ('items', 2605),\n",
       " ('wanted', 2583),\n",
       " ('waiter', 2576),\n",
       " ('house', 2568),\n",
       " ('wish', 2560),\n",
       " ('manager', 2547),\n",
       " ('high', 2530),\n",
       " ('cool', 2529),\n",
       " ('outside', 2520),\n",
       " ('dessert', 2518),\n",
       " ('line', 2514),\n",
       " ('reasonable', 2503),\n",
       " ('half', 2496),\n",
       " ('portion', 2485),\n",
       " ('gave', 2480),\n",
       " ('helpful', 2475),\n",
       " ('roll', 2472),\n",
       " ('owner', 2461),\n",
       " ('wine', 2442),\n",
       " ('things', 2435),\n",
       " ('close', 2411),\n",
       " ('cream', 2408),\n",
       " ('average', 2386),\n",
       " ('left', 2386),\n",
       " ('told', 2376),\n",
       " ('music', 2363),\n",
       " ('ate', 2354),\n",
       " ('bacon', 2347),\n",
       " ('wrong', 2341),\n",
       " ('brunch', 2334),\n",
       " ('kids', 2301),\n",
       " ('ice', 2294),\n",
       " ('extremely', 2291),\n",
       " ('star', 2281),\n",
       " ('week', 2263),\n",
       " ('patio', 2240),\n",
       " ('point', 2239),\n",
       " ('used', 2234),\n",
       " ('priced', 2230),\n",
       " ('taco', 2219),\n",
       " ('lots', 2207),\n",
       " ('stopped', 2194),\n",
       " ('plate', 2187),\n",
       " ('pho', 2185),\n",
       " ('put', 2177),\n",
       " ('reviews', 2173),\n",
       " ('thought', 2158),\n",
       " ('couple', 2155),\n",
       " ('bowl', 2145),\n",
       " ('dining', 2142),\n",
       " ('makes', 2139),\n",
       " ('maybe', 2137),\n",
       " ('extra', 2122),\n",
       " ('size', 2118),\n",
       " ('without', 2115),\n",
       " ('almost', 2111),\n",
       " ('tables', 2111),\n",
       " ('sandwiches', 2105),\n",
       " ('egg', 2100),\n",
       " ('decor', 2099),\n",
       " ('sat', 2094),\n",
       " ('burrito', 2090),\n",
       " ('eggs', 2090),\n",
       " ('live', 2087),\n",
       " ('drive', 2085),\n",
       " ('look', 2080),\n",
       " ('italian', 2080),\n",
       " ('variety', 2080),\n",
       " ('least', 2073),\n",
       " ('style', 2072),\n",
       " ('getting', 2067),\n",
       " ('strip', 2064),\n",
       " ('let', 2062),\n",
       " ('waited', 2057),\n",
       " ('okay', 2055),\n",
       " ('actually', 2053),\n",
       " ('keep', 2046),\n",
       " ('servers', 2044),\n",
       " ('trying', 2041),\n",
       " ('money', 2032),\n",
       " ('dry', 2031),\n",
       " ('buffet', 2028),\n",
       " ('care', 2026),\n",
       " ('decided', 2019),\n",
       " ('green', 2017),\n",
       " ('salsa', 2009),\n",
       " ('seating', 2006),\n",
       " ('noodles', 2005),\n",
       " ('worst', 2000),\n",
       " ('done', 1988),\n",
       " ('waiting', 1988),\n",
       " ('real', 1983),\n",
       " ('three', 1980),\n",
       " ('chinese', 1975),\n",
       " ('local', 1970),\n",
       " ('recommended', 1957),\n",
       " ('french', 1954),\n",
       " ('ambiance', 1948),\n",
       " ('pasta', 1932),\n",
       " ('thank', 1927),\n",
       " ('terrible', 1923),\n",
       " ('delivery', 1917),\n",
       " ('business', 1915),\n",
       " ('20', 1910),\n",
       " ('horrible', 1910),\n",
       " ('garlic', 1907),\n",
       " ('expensive', 1899),\n",
       " ('seated', 1897),\n",
       " ('salmon', 1887),\n",
       " ('crispy', 1885),\n",
       " ('impressed', 1882),\n",
       " ('soon', 1867),\n",
       " ('looked', 1858),\n",
       " ('perfectly', 1857),\n",
       " ('sit', 1850),\n",
       " ('whole', 1850),\n",
       " ('second', 1844),\n",
       " ('water', 1843),\n",
       " ('ramen', 1841),\n",
       " ('las', 1826),\n",
       " ('several', 1821),\n",
       " ('late', 1821),\n",
       " ('curry', 1820),\n",
       " ('1', 1817),\n",
       " ('group', 1815),\n",
       " ('grilled', 1801),\n",
       " ('bring', 1797),\n",
       " ('comes', 1793),\n",
       " ('ingredients', 1793),\n",
       " ('twice', 1789),\n",
       " ('street', 1787),\n",
       " ('liked', 1784),\n",
       " ('party', 1769),\n",
       " ('pricey', 1766),\n",
       " ('flavorful', 1756),\n",
       " ('cheap', 1747),\n",
       " ('review', 1743),\n",
       " ('outstanding', 1742),\n",
       " ('use', 1742),\n",
       " ('crab', 1740),\n",
       " ('expect', 1733),\n",
       " ('regular', 1732),\n",
       " ('fan', 1725),\n",
       " ('plus', 1715),\n",
       " ('often', 1709),\n",
       " ('bland', 1706),\n",
       " ('red', 1702),\n",
       " ('appetizer', 1695),\n",
       " ('yelp', 1694),\n",
       " ('glad', 1689),\n",
       " ('warm', 1680),\n",
       " ('less', 1677),\n",
       " ('ordering', 1664),\n",
       " ('reason', 1664),\n",
       " ('customers', 1658),\n",
       " ('sunday', 1655),\n",
       " ('anyone', 1652),\n",
       " ('pay', 1651),\n",
       " ('room', 1648),\n",
       " ('rude', 1648),\n",
       " ('tell', 1648),\n",
       " ('amount', 1643),\n",
       " ('wow', 1641),\n",
       " ('mac', 1636),\n",
       " ('seafood', 1636),\n",
       " ('potatoes', 1628),\n",
       " ('brought', 1615),\n",
       " ('eaten', 1615),\n",
       " ('either', 1609),\n",
       " ('thanks', 1594),\n",
       " ('person', 1584),\n",
       " ('serve', 1584),\n",
       " ('potato', 1579),\n",
       " ('employees', 1574),\n",
       " ('quickly', 1566),\n",
       " ('choices', 1563),\n",
       " ('chef', 1554),\n",
       " ('yet', 1550),\n",
       " ('hours', 1548),\n",
       " ('flavors', 1542),\n",
       " ('part', 1542),\n",
       " ('meals', 1539),\n",
       " ('seemed', 1539),\n",
       " ('oh', 1535),\n",
       " ('bite', 1526),\n",
       " ('ribs', 1526),\n",
       " ('orders', 1522),\n",
       " ('crust', 1522),\n",
       " ('parking', 1521),\n",
       " ('unique', 1518),\n",
       " ('instead', 1514),\n",
       " ('although', 1500),\n",
       " ('beautiful', 1499),\n",
       " ('name', 1498),\n",
       " ('beers', 1497),\n",
       " ('beans', 1495),\n",
       " ('lobster', 1490),\n",
       " ('incredible', 1489),\n",
       " ('kitchen', 1488),\n",
       " ('chocolate', 1485),\n",
       " ('die', 1482),\n",
       " ('choice', 1479),\n",
       " ('felt', 1474),\n",
       " ('15', 1472),\n",
       " ('birthday', 1469),\n",
       " ('saturday', 1469),\n",
       " ('trip', 1468),\n",
       " ('cute', 1466),\n",
       " ('guy', 1461),\n",
       " ('tastes', 1461),\n",
       " ('finally', 1452),\n",
       " ('walked', 1446),\n",
       " ('end', 1445),\n",
       " ('deal', 1443),\n",
       " ('seems', 1436),\n",
       " ('vegan', 1434),\n",
       " ('tender', 1433),\n",
       " ('called', 1426),\n",
       " ('gem', 1426),\n",
       " ('job', 1424),\n",
       " ('cake', 1421),\n",
       " ('bartender', 1421),\n",
       " ('year', 1409),\n",
       " ('prepared', 1405),\n",
       " ('making', 1404),\n",
       " ('may', 1403),\n",
       " ('pick', 1402),\n",
       " ('guys', 1401),\n",
       " ('pancakes', 1400),\n",
       " ('choose', 1400),\n",
       " ('pleasant', 1398),\n",
       " ('ok.', 1395),\n",
       " ('toast', 1393),\n",
       " ('leave', 1392),\n",
       " ('door', 1380),\n",
       " ('plenty', 1379),\n",
       " ('healthy', 1370),\n",
       " ('phoenix', 1365),\n",
       " ('short', 1357),\n",
       " ('specials', 1353),\n",
       " ('ago', 1349),\n",
       " ('visiting', 1346),\n",
       " ('yum', 1338),\n",
       " ('30', 1336),\n",
       " ('salads', 1326),\n",
       " ('front', 1324),\n",
       " ('salty', 1321),\n",
       " ('expected', 1318),\n",
       " ('working', 1317),\n",
       " ('toppings', 1302),\n",
       " ('hit', 1297),\n",
       " ('looks', 1295),\n",
       " ('packed', 1291)]"
      ]
     },
     "execution_count": 25,
     "metadata": {},
     "output_type": "execute_result"
    }
   ],
   "source": [
    "fdist_useless = high_freq_words(useless_with_punc)\n",
    "fdist_useless.most_common(500)"
   ]
  },
  {
   "cell_type": "markdown",
   "metadata": {},
   "source": [
    "Because the groups of words with highest frequencies of the two sets do not have an obvious difference, we do not include word frequency as a feature in the model"
   ]
  },
  {
   "cell_type": "markdown",
   "metadata": {},
   "source": [
    "## 3.2 Difference between the rating gives by the review and the overal rating of a business\n"
   ]
  },
  {
   "cell_type": "code",
   "execution_count": 26,
   "metadata": {},
   "outputs": [
    {
     "data": {
      "text/plain": [
       "{'address': '4855 E Warner Rd, Ste B9',\n",
       " 'attributes': {'AcceptsInsurance': True,\n",
       "  'BusinessAcceptsCreditCards': True,\n",
       "  'ByAppointmentOnly': True},\n",
       " 'business_id': 'FYWN1wneV18bWNgQjJ2GNg',\n",
       " 'categories': ['Dentists',\n",
       "  'General Dentistry',\n",
       "  'Health & Medical',\n",
       "  'Oral Surgeons',\n",
       "  'Cosmetic Dentists',\n",
       "  'Orthodontists'],\n",
       " 'city': 'Ahwatukee',\n",
       " 'hours': {'Friday': '7:30-17:00',\n",
       "  'Monday': '7:30-17:00',\n",
       "  'Thursday': '7:30-17:00',\n",
       "  'Tuesday': '7:30-17:00',\n",
       "  'Wednesday': '7:30-17:00'},\n",
       " 'is_open': 1,\n",
       " 'latitude': 33.3306902,\n",
       " 'longitude': -111.9785992,\n",
       " 'name': 'Dental by Design',\n",
       " 'neighborhood': '',\n",
       " 'postal_code': '85044',\n",
       " 'review_count': 22,\n",
       " 'stars': 4.0,\n",
       " 'state': 'AZ'}"
      ]
     },
     "execution_count": 26,
     "metadata": {},
     "output_type": "execute_result"
    }
   ],
   "source": [
    "businesses[0]"
   ]
  },
  {
   "cell_type": "code",
   "execution_count": 29,
   "metadata": {
    "collapsed": true
   },
   "outputs": [],
   "source": [
    "businessDict = {}\n",
    "for b in businesses:\n",
    "    b_id = b[\"business_id\"]\n",
    "    if b_id not in businessDict:\n",
    "        businessDict[b_id] = b"
   ]
  },
  {
   "cell_type": "code",
   "execution_count": 27,
   "metadata": {
    "collapsed": true
   },
   "outputs": [],
   "source": [
    "# rating_difference = the difference between customer and overall rating * number of votes\n",
    "\n",
    "def rating_difference(dataset):\n",
    "    for d in dataset:\n",
    "        review_stars = d[\"stars\"]\n",
    "        business = d[\"business_id\"]\n",
    "        if business in businessDict:\n",
    "            b_stars = businessDict[business][\"stars\"]\n",
    "            difference = (review_stars - b_stars)\n",
    "            if difference not in d:\n",
    "                d[\"rating_difference\"] = difference\n",
    "            if \"b_stars\" not in d:\n",
    "                d[\"b_stars\"] = b_stars"
   ]
  },
  {
   "cell_type": "code",
   "execution_count": 30,
   "metadata": {},
   "outputs": [],
   "source": [
    "# Add rating difference as a feature to all data\n",
    "rating_difference(useful_with_punc)\n",
    "rating_difference(useless_with_punc)"
   ]
  },
  {
   "cell_type": "code",
   "execution_count": 31,
   "metadata": {},
   "outputs": [
    {
     "name": "stdout",
     "output_type": "stream",
     "text": [
      "3.7218251678 1.21349908822\n"
     ]
    }
   ],
   "source": [
    "# Calculate standard diviation of rating_difference in \"useful\" and \"useless\" data\n",
    "useful_rating_difference = []\n",
    "for d in useful_with_punc:\n",
    "    useful_rating_difference.append((d[\"useful\"], d[\"rating_difference\"]))\n",
    "    \n",
    "useless_rating_difference = []\n",
    "for d in useless_with_punc:\n",
    "    useless_rating_difference.append(d[\"rating_difference\"])\n",
    "    \n",
    "useful_std = np.std(useful_rating_difference)\n",
    "useless_std = np.std(useless_rating_difference)\n",
    "print(useful_std, useless_std)"
   ]
  },
  {
   "cell_type": "markdown",
   "metadata": {},
   "source": [
    "Because there is a significant difference, we decide to include rating_difference as a feature"
   ]
  },
  {
   "cell_type": "markdown",
   "metadata": {},
   "source": [
    "## 3.3 Sentiment Analysis"
   ]
  },
  {
   "cell_type": "code",
   "execution_count": 32,
   "metadata": {
    "collapsed": true
   },
   "outputs": [],
   "source": [
    "# Import two lists of positive and negative English vocabulary\n",
    "from negative import *\n",
    "from positive import *"
   ]
  },
  {
   "cell_type": "code",
   "execution_count": 33,
   "metadata": {
    "collapsed": true
   },
   "outputs": [],
   "source": [
    "def num_pos_and_neg(sentence):\n",
    "    word_tokens = word_tokenize(sentence.lower())\n",
    "    negation = False\n",
    "    word_count = 0\n",
    "    pos = []\n",
    "    neg = []\n",
    "    for w in word_tokens:\n",
    "        \n",
    "        # mark negation\n",
    "        if w == \"not\" or w == \"n't\":\n",
    "            negation = True\n",
    "            word_count += 1\n",
    "        \n",
    "        # mark end of sentence\n",
    "        elif not nonPunct.match(w) or w == \"but\":\n",
    "            negation = False\n",
    "        \n",
    "        # categorize expression\n",
    "        elif negation:\n",
    "            if w in negative_dict:\n",
    "                pos.append(\"-\"+w)\n",
    "                negation = False\n",
    "            elif w in positive_dict:\n",
    "                neg.append(\"-\"+w)\n",
    "                negation = False\n",
    "            word_count += 1\n",
    "        elif not negation:\n",
    "            if w in negative_dict:\n",
    "                neg.append(w)\n",
    "            elif w in positive_dict:\n",
    "                pos.append(w)\n",
    "            word_count += 1\n",
    "            \n",
    "    return (len(pos),len(neg),word_count)\n",
    "                "
   ]
  },
  {
   "cell_type": "code",
   "execution_count": 34,
   "metadata": {
    "collapsed": true
   },
   "outputs": [],
   "source": [
    "def pos_and_neg(dataset):\n",
    "    for d in dataset:\n",
    "        pos, neg, count = num_pos_and_neg(d[\"text\"])\n",
    "        if \"pos\" not in d:\n",
    "            d[\"pos\"] = pos\n",
    "        if \"word count\" not in d:\n",
    "            d[\"word count\"] = count\n",
    "        if \"neg\" not in d:\n",
    "            d[\"neg\"] = neg"
   ]
  },
  {
   "cell_type": "code",
   "execution_count": 35,
   "metadata": {
    "collapsed": true
   },
   "outputs": [],
   "source": [
    "pos_and_neg(useful_with_punc)\n",
    "pos_and_neg(useless_with_punc)"
   ]
  },
  {
   "cell_type": "markdown",
   "metadata": {},
   "source": [
    "## 3.4 Extract Features"
   ]
  },
  {
   "cell_type": "code",
   "execution_count": 36,
   "metadata": {
    "collapsed": true
   },
   "outputs": [],
   "source": [
    "def get_features(data):\n",
    "    data[\"tag\"] = \"useful\" if data[\"useful\"] > 0 else \"useless\"\n",
    "    result = {}\n",
    "    result[\"rating_difference\"] = data[\"rating_difference\"]\n",
    "    result[\"word count\"] = data[\"word count\"]\n",
    "    result[\"punctuations\"] = data[\"punctuations\"]\n",
    "    result[\"exclamations\"] = data[\"exclamations\"]\n",
    "    result[\"pos\"] = data[\"pos\"]\n",
    "    result[\"neg\"] = data[\"neg\"]\n",
    "    return result"
   ]
  },
  {
   "cell_type": "code",
   "execution_count": 37,
   "metadata": {},
   "outputs": [
    {
     "data": {
      "text/plain": [
       "{'exclamations': 0,\n",
       " 'neg': 0,\n",
       " 'pos': 3,\n",
       " 'punctuations': 4,\n",
       " 'rating_difference': 0.5,\n",
       " 'word count': 44}"
      ]
     },
     "execution_count": 37,
     "metadata": {},
     "output_type": "execute_result"
    }
   ],
   "source": [
    "get_features(useful_with_punc[0])"
   ]
  },
  {
   "cell_type": "markdown",
   "metadata": {},
   "source": [
    "## 3.5 Training and Testing"
   ]
  },
  {
   "cell_type": "code",
   "execution_count": 39,
   "metadata": {},
   "outputs": [
    {
     "name": "stdout",
     "output_type": "stream",
     "text": [
      "197562\n",
      "49392\n"
     ]
    }
   ],
   "source": [
    "trainData = useful_with_punc[:98781] + useless_with_punc[:98781]\n",
    "testData = useful_with_punc[98781:] + useless_with_punc[98781:]\n",
    "shuffle(trainData)\n",
    "shuffle(testData)\n",
    "\n",
    "print(len(trainData))\n",
    "        \n",
    "print(len(testData))"
   ]
  },
  {
   "cell_type": "code",
   "execution_count": 40,
   "metadata": {
    "collapsed": true
   },
   "outputs": [],
   "source": [
    "train = [(get_features(d), d[\"tag\"]) for d in trainData]\n",
    "test = [(get_features(d), d[\"tag\"]) for d in testData]"
   ]
  },
  {
   "cell_type": "markdown",
   "metadata": {},
   "source": [
    "### 3.5.1 Using NaiveBayes Classifier in SKLearn"
   ]
  },
  {
   "cell_type": "code",
   "execution_count": 41,
   "metadata": {
    "collapsed": true
   },
   "outputs": [],
   "source": [
    "from nltk.classify.scikitlearn import SklearnClassifier\n",
    "from sklearn.naive_bayes import BernoulliNB"
   ]
  },
  {
   "cell_type": "code",
   "execution_count": 42,
   "metadata": {},
   "outputs": [
    {
     "name": "stdout",
     "output_type": "stream",
     "text": [
      "BernoulliNB accuracy percent: 55.86532231940395\n"
     ]
    }
   ],
   "source": [
    "BNB_classifier = SklearnClassifier(BernoulliNB())\n",
    "BNB_classifier.train(train)\n",
    "print(\"BernoulliNB accuracy percent:\",nltk.classify.accuracy(BNB_classifier, test)*100)"
   ]
  },
  {
   "cell_type": "markdown",
   "metadata": {},
   "source": [
    "### 3.5.2 Using NaiveBayesClassifier in NLTK"
   ]
  },
  {
   "cell_type": "code",
   "execution_count": 43,
   "metadata": {
    "collapsed": true
   },
   "outputs": [],
   "source": [
    "clf = nltk.NaiveBayesClassifier.train(train)"
   ]
  },
  {
   "cell_type": "code",
   "execution_count": 44,
   "metadata": {},
   "outputs": [
    {
     "data": {
      "text/plain": [
       "0.6135204081632653"
      ]
     },
     "execution_count": 44,
     "metadata": {},
     "output_type": "execute_result"
    }
   ],
   "source": [
    "nltk.classify.accuracy(clf, test)"
   ]
  },
  {
   "cell_type": "code",
   "execution_count": 45,
   "metadata": {},
   "outputs": [
    {
     "name": "stdout",
     "output_type": "stream",
     "text": [
      "Most Informative Features\n",
      "       rating_difference = 3.5            useles : useful =      7.4 : 1.0\n",
      "            exclamations = 22             useful : useles =      7.0 : 1.0\n",
      "                     neg = 12             useful : useles =      5.7 : 1.0\n",
      "       rating_difference = -4.0           useful : useles =      4.2 : 1.0\n",
      "            punctuations = 29             useful : useles =      3.7 : 1.0\n"
     ]
    }
   ],
   "source": [
    "clf.show_most_informative_features(5)"
   ]
  },
  {
   "cell_type": "markdown",
   "metadata": {},
   "source": [
    "## 3.6 Predict new reviews"
   ]
  },
  {
   "cell_type": "code",
   "execution_count": 46,
   "metadata": {
    "collapsed": true
   },
   "outputs": [],
   "source": [
    "def raw_to_feature(sentence,rating):\n",
    "    result = {}\n",
    "    punc, exc = text_count_punctuations(sentence)\n",
    "    pos, neg, length = num_pos_and_neg(sentence)\n",
    "    result[\"punctuations\"] = punc\n",
    "    result[\"exclamations\"] = exc\n",
    "    result[\"pos\"] = pos\n",
    "    result[\"neg\"] = neg\n",
    "    result[\"word count\"] = length\n",
    "    result[\"rating_difference\"] = rating\n",
    "    return result"
   ]
  },
  {
   "cell_type": "code",
   "execution_count": 47,
   "metadata": {},
   "outputs": [
    {
     "name": "stdout",
     "output_type": "stream",
     "text": [
      "useful labeled as: useful\n"
     ]
    }
   ],
   "source": [
    "useful_review = \"First off, I am going to come back and write a more proper review, but for now this is what you get. I waited a little too long in between coming here to remember exactly what I ordered, but I think I can still get my point across. \\nI had a BALL here. It was such a fun and bustling atmosphere. Fantastic food and at really decent prices for such good quality. We had appetizers, pizza, sweet potato ravioli and two drinks each and I am pretty sure it was only $100. I can't wait to come back and try some more of the menu items. \\nAlso, at the end of the day the receipt comes with a small notebook where you can write, draw, autograph... whatever you want to encapsulate your time there. It was a really fun, unique little send-off. We had a great time!\"\n",
    "user_rating = 3.0\n",
    "business_rating = 3.0\n",
    "features = raw_to_feature(useful_review,user_rating - business_rating)\n",
    "print(\"useful\", \"labeled as:\", clf.classify(features))"
   ]
  },
  {
   "cell_type": "code",
   "execution_count": 48,
   "metadata": {},
   "outputs": [
    {
     "name": "stdout",
     "output_type": "stream",
     "text": [
      "useless labeled as: useful\n"
     ]
    }
   ],
   "source": [
    "useless_review = \"I went here for dinner with family (small, 3-person group), and loved it! Waitress was nice, but I will say it took a while to get a second round of drinks. I was able to order a pizza without cheese due to my dairy intolerance. Unbelievable pizza!\\nFunky interior, fun outdoor patio, and fun menu. You can pick and choose your own charcuterie board by picking a meat, a cheese, and olives or a spread. I think this is a cool idea, to get drinks with friends and get different charcuterie boards to try. Fun!\"\n",
    "user_rating = 5.0\n",
    "business_rating = 4.0\n",
    "features = raw_to_feature(useless_review,user_rating - business_rating)\n",
    "print(\"useless\", \"labeled as:\", clf.classify(features))"
   ]
  }
 ],
 "metadata": {
  "kernelspec": {
   "display_name": "Python 3",
   "language": "python",
   "name": "python3"
  },
  "language_info": {
   "codemirror_mode": {
    "name": "ipython",
    "version": 3
   },
   "file_extension": ".py",
   "mimetype": "text/x-python",
   "name": "python",
   "nbconvert_exporter": "python",
   "pygments_lexer": "ipython3",
   "version": "3.6.5"
  }
 },
 "nbformat": 4,
 "nbformat_minor": 2
}
