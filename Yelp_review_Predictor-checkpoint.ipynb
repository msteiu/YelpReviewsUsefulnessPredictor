{
 "cells": [
  {
   "cell_type": "markdown",
   "metadata": {},
   "source": [
    "# Yelp Review Predictor\n",
    "\n",
    "### Author: Lisa Huang, Huihan Li, Mara-Florina Steiu\n",
    "Created: 05/03/2018\n",
    "Modified: 05/20/2018\n",
    "\n",
    "Features used: number of exclamations, number of punctuations, rating difference between actual and overall, positive sentiment words, negative sentiment words\n",
    "\n",
    "Accuracy: **61.61%**\n",
    "\n",
    "**CS232 Final Project of *Huihan Li, Lisa Huang and Mara-Florina Steiu***"
   ]
  },
  {
   "cell_type": "markdown",
   "metadata": {},
   "source": [
    "## 1. Analyzing the data"
   ]
  },
  {
   "cell_type": "markdown",
   "metadata": {},
   "source": [
    "## 1.1 Open json data"
   ]
  },
  {
   "cell_type": "code",
   "execution_count": 2,
   "metadata": {},
   "outputs": [],
   "source": [
    "import json"
   ]
  },
  {
   "cell_type": "code",
   "execution_count": 3,
   "metadata": {},
   "outputs": [],
   "source": [
    "from open_useful_reviews import *\n",
    "from open_useless_reviews import *\n",
    "from open_business import *"
   ]
  },
  {
   "cell_type": "code",
   "execution_count": 4,
   "metadata": {},
   "outputs": [],
   "source": [
    "import matplotlib.pyplot as plt\n",
    "import numpy as np"
   ]
  },
  {
   "cell_type": "code",
   "execution_count": 5,
   "metadata": {},
   "outputs": [
    {
     "data": {
      "text/plain": [
       "{'funny': 0,\n",
       " 'user_id': 'u0LXt3Uea_GidxRW1xcsfg',\n",
       " 'review_id': 'w41ZS9shepfO3uEyhXEWuQ',\n",
       " 'text': \"Not bad!! Love that there is a gluten-free, vegan version of the cheese curds and gravy!!\\n\\nHaven't done the poutine taste test yet with smoke's but Im excited to see which is better. However poutini's might win as they are vegan and gluten-free\",\n",
       " 'business_id': '5r6-G9C4YLbC7Ziz57l3rQ',\n",
       " 'stars': 3,\n",
       " 'date': '2013-02-09',\n",
       " 'useful': 1,\n",
       " 'character count': 244,\n",
       " 'cool': 0}"
      ]
     },
     "execution_count": 5,
     "metadata": {},
     "output_type": "execute_result"
    }
   ],
   "source": [
    "useful[0]"
   ]
  },
  {
   "cell_type": "code",
   "execution_count": 6,
   "metadata": {},
   "outputs": [
    {
     "data": {
      "text/plain": [
       "{'funny': 0,\n",
       " 'user_id': 'bv2nCi5Qv5vroFiqKGopiw',\n",
       " 'review_id': 'v0i_UHJMo_hPBq9bxWvW4w',\n",
       " 'text': \"Love the staff, love the meat, love the place. Prepare for a long line around lunch or dinner hours. \\n\\nThey ask you how you want you meat, lean or something maybe, I can't remember. Just say you don't want it too fatty. \\n\\nGet a half sour pickle and a hot pepper. Hand cut french fries too.\",\n",
       " 'business_id': '0W4lkclzZThpx3V65bVgig',\n",
       " 'stars': 5,\n",
       " 'date': '2016-05-28',\n",
       " 'useful': 0,\n",
       " 'character count': 289,\n",
       " 'cool': 0}"
      ]
     },
     "execution_count": 6,
     "metadata": {},
     "output_type": "execute_result"
    }
   ],
   "source": [
    "useless[0]"
   ]
  },
  {
   "cell_type": "markdown",
   "metadata": {},
   "source": [
    "## 1.2 Find the distribution of \"useful\" votes"
   ]
  },
  {
   "cell_type": "code",
   "execution_count": 7,
   "metadata": {},
   "outputs": [
    {
     "data": {
      "text/plain": [
       "{1: 388819,\n",
       " 5: 12779,\n",
       " 2: 143763,\n",
       " 4: 25818,\n",
       " 11: 820,\n",
       " 3: 57817,\n",
       " 6: 7028,\n",
       " 7: 4145,\n",
       " 8: 2556,\n",
       " 18: 163,\n",
       " 13: 475,\n",
       " 10: 1151,\n",
       " 9: 1718,\n",
       " 17: 214,\n",
       " 15: 257,\n",
       " 24: 67,\n",
       " 21: 80,\n",
       " 26: 60,\n",
       " 54: 5,\n",
       " 14: 338,\n",
       " 23: 79,\n",
       " 12: 637,\n",
       " 37: 12,\n",
       " 29: 35,\n",
       " 19: 144,\n",
       " 22: 85,\n",
       " 16: 248,\n",
       " 20: 122,\n",
       " 62: 4,\n",
       " 97: 1,\n",
       " 110: 1,\n",
       " 71: 2,\n",
       " 27: 43,\n",
       " 25: 60,\n",
       " 31: 32,\n",
       " 250: 1,\n",
       " 30: 40,\n",
       " 638: 1,\n",
       " 276: 2,\n",
       " 72: 4,\n",
       " 28: 43,\n",
       " 43: 12,\n",
       " 36: 17,\n",
       " 34: 17,\n",
       " 271: 2,\n",
       " 52: 4,\n",
       " 127: 1,\n",
       " 32: 32,\n",
       " 45: 6,\n",
       " 283: 1,\n",
       " 39: 16,\n",
       " 216: 1,\n",
       " 68: 2,\n",
       " 41: 14,\n",
       " 53: 6,\n",
       " 312: 1,\n",
       " 49: 8,\n",
       " 35: 12,\n",
       " 204: 1,\n",
       " 67: 2,\n",
       " 38: 10,\n",
       " 44: 9,\n",
       " 55: 6,\n",
       " 76: 1,\n",
       " 42: 9,\n",
       " 40: 12,\n",
       " 241: 1,\n",
       " 1698: 1,\n",
       " 33: 22,\n",
       " 47: 7,\n",
       " 56: 8,\n",
       " 286: 1,\n",
       " 50: 4,\n",
       " 124: 2,\n",
       " 51: 4,\n",
       " 415: 1,\n",
       " 48: 9,\n",
       " 108: 1,\n",
       " 88: 2,\n",
       " 84: 1,\n",
       " 86: 1,\n",
       " 397: 1,\n",
       " 57: 2,\n",
       " 135: 1,\n",
       " 98: 1,\n",
       " 333: 1,\n",
       " 222: 1,\n",
       " 245: 1,\n",
       " 782: 1,\n",
       " 213: 1,\n",
       " 647: 1,\n",
       " 188: 1,\n",
       " 80: 2,\n",
       " 336: 1,\n",
       " 162: 1,\n",
       " 58: 2,\n",
       " 75: 3,\n",
       " 74: 2,\n",
       " 146: 1,\n",
       " 70: 1,\n",
       " 93: 1,\n",
       " 73: 2,\n",
       " 133: 1,\n",
       " 78: 1,\n",
       " 85: 1,\n",
       " 63: 1,\n",
       " 679: 1,\n",
       " 92: 1,\n",
       " 60: 2,\n",
       " 132: 1,\n",
       " 61: 2,\n",
       " 313: 1,\n",
       " 533: 1,\n",
       " 161: 1,\n",
       " 81: 1,\n",
       " 463: 1,\n",
       " 1341: 1,\n",
       " 775: 1,\n",
       " 176: 1,\n",
       " 123: 1,\n",
       " 99: 1,\n",
       " 174: 1,\n",
       " 869: 1,\n",
       " 130: 1,\n",
       " 119: 1,\n",
       " 121: 1,\n",
       " 59: 1,\n",
       " 163: 1,\n",
       " 141: 1,\n",
       " 358: 1,\n",
       " 251: 1,\n",
       " 200: 1,\n",
       " 693: 1,\n",
       " 104: 1,\n",
       " 238: 1,\n",
       " 191: 1}"
      ]
     },
     "execution_count": 7,
     "metadata": {},
     "output_type": "execute_result"
    }
   ],
   "source": [
    "distribution = {}\n",
    "for d in useful:\n",
    "    if d[\"useful\"] not in distribution:\n",
    "        distribution[d[\"useful\"]] = 1\n",
    "    else:\n",
    "        distribution[d[\"useful\"]] += 1\n",
    "\n",
    "distribution"
   ]
  },
  {
   "cell_type": "code",
   "execution_count": 8,
   "metadata": {},
   "outputs": [
    {
     "data": {
      "image/png": "[encoded data removed]",
      "text/plain": [
       "<Figure size 432x288 with 1 Axes>"
      ]
     },
     "metadata": {},
     "output_type": "display_data"
    }
   ],
   "source": [
    "pairs = distribution.items()\n",
    "X = [t[0] for t in pairs]\n",
    "Y = [t[1] for t in pairs]\n",
    "position = range(len(pairs))\n",
    "\n",
    "plt.plot(X, Y)\n",
    "plt.show()"
   ]
  },
  {
   "cell_type": "code",
   "execution_count": 9,
   "metadata": {},
   "outputs": [
    {
     "data": {
      "text/plain": [
       "['Wanted to check out this place due to all the hype I had heard. My friend wanted to come here for her birthday. We had a group of seven and based on the way the seating works (as it is communal), we wind up sharing with another group of five. \\n\\nFood was ok - not sure what the hype was. Almost 75% of the dishes had some sort of cheese in it.\\n\\nThis place is very loud so not ideal for catching up/talking. Not a great place to go if you have any gluten or vegan restrictions.\\n\\nInteresting concept. Would definitely recommend to try this place once - but definitely not worth the 30- 45 mins wait.',\n",
       " \"This place is awesome! Definitely authentic!!!\\n\\nMy two favourite dishes are the rice flour rolls and the chicken pho. The rice flour rolls are always fresh whenever I'm there! And the chicken pho is always flavourful!! mmmm....just thinking of it makes me want some!\\n\\nMy boyfriend is Vietnamese and he agrees that this place is authentic and one of the best Vietnamese restaurants he has ever eaten at.\\n\\nPrices are very reasonable too!\",\n",
       " 'Came here with my girlfriends one Sunday afternoon. This place will take a long time to serve your food - as it took them almost an hour to give us our food. So make sure you give yourself lots of time! It is definitely a lazy brunch place!\\n\\nDefinitely recommend the pancakes! Beware of the portion sizes - they are huge!',\n",
       " 'Great Japanese restaurant in the Bloor and Church area. Been coming here since the first opened years ago.\\n\\nFood has always been good and fresh. However, if you are here for lunch, it will take an hour and make sure you come a few minutes earlier otherwise it may be a long wait as it is small inside!',\n",
       " \"We stopped in here for lunch this afternoon. Staff was helpful and friendly. Food was good and you get a lot for the price. We noted that they deliver and since we live close by we'll probably order from them in the future.\"]"
      ]
     },
     "execution_count": 9,
     "metadata": {},
     "output_type": "execute_result"
    }
   ],
   "source": [
    "vote_of_two = [d[\"text\"] for d in useful if d[\"useful\"] == 2]\n",
    "vote_of_two[:5]"
   ]
  },
  {
   "cell_type": "markdown",
   "metadata": {},
   "source": [
    "We discovered that reviews with two or more votes seemed to be more convincing and thus decided to only keep these reviews."
   ]
  },
  {
   "cell_type": "markdown",
   "metadata": {},
   "source": [
    "## 1.3 Find distribution of dates"
   ]
  },
  {
   "cell_type": "code",
   "execution_count": 10,
   "metadata": {},
   "outputs": [],
   "source": [
    "dates = {}\n",
    "data = useful+useless\n",
    "for d in data:\n",
    "    dateList = d[\"date\"].split(\"-\")\n",
    "    date = dateList[0] + dateList[1]\n",
    "    \n",
    "    if date not in dates:\n",
    "        dates[date] = 1\n",
    "    else:\n",
    "        dates[date] += 1\n",
    "\n",
    "dateTuples = list(dates.items())\n",
    "sortedDates = sorted(dateTuples, key=lambda tup: tup[0])\n",
    "quad = int(len(sortedDates)/4)\n",
    "mid = int(len(sortedDates)/2)\n"
   ]
  },
  {
   "cell_type": "code",
   "execution_count": 11,
   "metadata": {},
   "outputs": [
    {
     "data": {
      "text/plain": [
       "791375"
      ]
     },
     "execution_count": 11,
     "metadata": {},
     "output_type": "execute_result"
    }
   ],
   "source": [
    "data_since_2015 = sortedDates[quad+mid+3:] #data since 201501\n",
    "total = 0\n",
    "for tup in data_since_2015:\n",
    "    total += tup[1]\n",
    "    \n",
    "total"
   ]
  },
  {
   "cell_type": "code",
   "execution_count": 12,
   "metadata": {},
   "outputs": [
    {
     "data": {
      "text/plain": [
       "[<matplotlib.lines.Line2D at 0x150e14ef0>]"
      ]
     },
     "execution_count": 12,
     "metadata": {},
     "output_type": "execute_result"
    },
    {
     "data": {
      "image/png": "[encoded data removed]",
      "text/plain": [
       "<Figure size 432x288 with 1 Axes>"
      ]
     },
     "metadata": {},
     "output_type": "display_data"
    }
   ],
   "source": [
    "date_X = [t[0] for t in sortedDates]\n",
    "date_Y = [t[1] for t in sortedDates]\n",
    "\n",
    "plt.plot(date_X, date_Y)"
   ]
  },
  {
   "cell_type": "code",
   "execution_count": 13,
   "metadata": {},
   "outputs": [],
   "source": [
    "plt.show()"
   ]
  },
  {
   "cell_type": "markdown",
   "metadata": {},
   "source": [
    "Based on the distribution of dates, we thus decided to only keep data after January 2015."
   ]
  },
  {
   "cell_type": "markdown",
   "metadata": {},
   "source": [
    "## 2. Cleaning the data\n",
    "### Here we decide to clean the data again, keeping only reviews with two or more votes after January 2015."
   ]
  },
  {
   "cell_type": "markdown",
   "metadata": {},
   "source": [
    "## 2.1 Clean the data by date"
   ]
  },
  {
   "cell_type": "code",
   "execution_count": 14,
   "metadata": {},
   "outputs": [
    {
     "data": {
      "text/plain": [
       "{'201501': 18166,\n",
       " '201502': 16979,\n",
       " '201503': 19597,\n",
       " '201504': 18851,\n",
       " '201505': 20225,\n",
       " '201506': 21003,\n",
       " '201507': 23061,\n",
       " '201508': 23379,\n",
       " '201509': 20428,\n",
       " '201510': 21313,\n",
       " '201511': 19922,\n",
       " '201512': 19203,\n",
       " '201601': 23152,\n",
       " '201602': 22270,\n",
       " '201603': 23399,\n",
       " '201604': 23200,\n",
       " '201605': 23765,\n",
       " '201606': 23432,\n",
       " '201607': 25687,\n",
       " '201608': 23799,\n",
       " '201609': 21838,\n",
       " '201610': 21358,\n",
       " '201611': 19392,\n",
       " '201612': 20488,\n",
       " '201701': 23231,\n",
       " '201702': 22255,\n",
       " '201703': 24759,\n",
       " '201704': 25073,\n",
       " '201705': 25353,\n",
       " '201706': 25125,\n",
       " '201707': 27953,\n",
       " '201708': 25719,\n",
       " '201709': 24181,\n",
       " '201710': 23704,\n",
       " '201711': 22269,\n",
       " '201712': 7846}"
      ]
     },
     "execution_count": 14,
     "metadata": {},
     "output_type": "execute_result"
    }
   ],
   "source": [
    "dateDict = {}\n",
    "for tup in data_since_2015:\n",
    "    date = tup[0]\n",
    "    freq = tup[1]\n",
    "    if date not in dateDict:\n",
    "        dateDict[date] = freq\n",
    "dateDict"
   ]
  },
  {
   "cell_type": "code",
   "execution_count": 15,
   "metadata": {},
   "outputs": [],
   "source": [
    "def process_data_by_date(dataset):\n",
    "    new = []\n",
    "    for d in dataset:\n",
    "        dateList = d[\"date\"].split(\"-\")\n",
    "        date = dateList[0] + dateList[1]\n",
    "        if date in dateDict:\n",
    "            new.append(d)\n",
    "    return new"
   ]
  },
  {
   "cell_type": "code",
   "execution_count": 16,
   "metadata": {},
   "outputs": [
    {
     "name": "stdout",
     "output_type": "stream",
     "text": [
      "341882 449493\n"
     ]
    }
   ],
   "source": [
    "newer_useful = process_data_by_date(useful)\n",
    "newer_useless = process_data_by_date(useless)\n",
    "print(len(newer_useful), len(newer_useless))"
   ]
  },
  {
   "cell_type": "markdown",
   "metadata": {},
   "source": [
    "## 2.2 Clean the useful data by votes"
   ]
  },
  {
   "cell_type": "code",
   "execution_count": 17,
   "metadata": {},
   "outputs": [],
   "source": [
    "def process_data_by_vote(dataset):\n",
    "    new = []\n",
    "    for d in dataset:\n",
    "        if d[\"useful\"] >= 2:\n",
    "            new.append(d)\n",
    "    return new"
   ]
  },
  {
   "cell_type": "code",
   "execution_count": 18,
   "metadata": {},
   "outputs": [
    {
     "data": {
      "text/plain": [
       "123477"
      ]
     },
     "execution_count": 18,
     "metadata": {},
     "output_type": "execute_result"
    }
   ],
   "source": [
    "more_useful = process_data_by_vote(newer_useful)\n",
    "len(more_useful)"
   ]
  },
  {
   "cell_type": "code",
   "execution_count": 19,
   "metadata": {},
   "outputs": [
    {
     "data": {
      "text/plain": [
       "{'funny': 0,\n",
       " 'user_id': 'tL2pS5UOmN6aAOi3Z-qFGg',\n",
       " 'review_id': 'oncT7W70CFwzzJkQoz3T5Q',\n",
       " 'text': \"We stopped in here for lunch this afternoon. Staff was helpful and friendly. Food was good and you get a lot for the price. We noted that they deliver and since we live close by we'll probably order from them in the future.\",\n",
       " 'business_id': 'NaZVUOzqk5b-l0mlki-9Og',\n",
       " 'stars': 4,\n",
       " 'date': '2017-02-10',\n",
       " 'useful': 2,\n",
       " 'character count': 223,\n",
       " 'cool': 0}"
      ]
     },
     "execution_count": 19,
     "metadata": {},
     "output_type": "execute_result"
    }
   ],
   "source": [
    "more_useful[0]"
   ]
  },
  {
   "cell_type": "markdown",
   "metadata": {},
   "source": [
    "To maintain equal number of training/testing data from two categories, we decided to keep only 123477 useless data as well."
   ]
  },
  {
   "cell_type": "code",
   "execution_count": 20,
   "metadata": {},
   "outputs": [],
   "source": [
    "from random import shuffle"
   ]
  },
  {
   "cell_type": "code",
   "execution_count": 21,
   "metadata": {},
   "outputs": [
    {
     "data": {
      "text/plain": [
       "{'funny': 0,\n",
       " 'user_id': 'bv2nCi5Qv5vroFiqKGopiw',\n",
       " 'review_id': 'v0i_UHJMo_hPBq9bxWvW4w',\n",
       " 'text': \"Love the staff, love the meat, love the place. Prepare for a long line around lunch or dinner hours. \\n\\nThey ask you how you want you meat, lean or something maybe, I can't remember. Just say you don't want it too fatty. \\n\\nGet a half sour pickle and a hot pepper. Hand cut french fries too.\",\n",
       " 'business_id': '0W4lkclzZThpx3V65bVgig',\n",
       " 'stars': 5,\n",
       " 'date': '2016-05-28',\n",
       " 'useful': 0,\n",
       " 'character count': 289,\n",
       " 'cool': 0}"
      ]
     },
     "execution_count": 21,
     "metadata": {},
     "output_type": "execute_result"
    }
   ],
   "source": [
    "newer_useless[0]"
   ]
  },
  {
   "cell_type": "code",
   "execution_count": 22,
   "metadata": {},
   "outputs": [
    {
     "data": {
      "text/plain": [
       "{'funny': 5,\n",
       " 'user_id': 'RqIBYhUDC026rhFL89BhnA',\n",
       " 'review_id': 'DPNb4WxHJ_fcSCakPb1Dnw',\n",
       " 'text': \"We were @ this restaurant last night. At least we tried to be. This is a 1st come 1st serve establishment. Which is not bad. But what is bad you must stand in line on your feet waiting until a chair at the bar is available. They don't care whether or not this is un comfortable, or not compliant with the needs of the Handicap public. This is disgusting.\",\n",
       " 'business_id': 'awI4hHMfa7H0Xf0-ChU5hg',\n",
       " 'stars': 1,\n",
       " 'date': '2016-06-15',\n",
       " 'useful': 0,\n",
       " 'character count': 354,\n",
       " 'cool': 0}"
      ]
     },
     "execution_count": 22,
     "metadata": {},
     "output_type": "execute_result"
    }
   ],
   "source": [
    "shuffle(newer_useless)\n",
    "newer_useless[0]"
   ]
  },
  {
   "cell_type": "code",
   "execution_count": 23,
   "metadata": {},
   "outputs": [
    {
     "name": "stdout",
     "output_type": "stream",
     "text": [
      "123477 123477\n"
     ]
    }
   ],
   "source": [
    "more_useless = newer_useless[:123477]\n",
    "print(len(more_useful), len(more_useless))"
   ]
  },
  {
   "cell_type": "markdown",
   "metadata": {},
   "source": [
    "## 3. Finding features and training the model"
   ]
  },
  {
   "cell_type": "markdown",
   "metadata": {},
   "source": [
    "## 3.1 Find the words with highest frequencies"
   ]
  },
  {
   "cell_type": "code",
   "execution_count": 24,
   "metadata": {},
   "outputs": [],
   "source": [
    "import re\n",
    "from collections import Counter\n",
    "import nltk\n",
    "from nltk import word_tokenize"
   ]
  },
  {
   "cell_type": "code",
   "execution_count": 25,
   "metadata": {},
   "outputs": [],
   "source": [
    "nonPunct = re.compile('.*[A-Za-z0-9].*')"
   ]
  },
  {
   "cell_type": "code",
   "execution_count": 26,
   "metadata": {},
   "outputs": [
    {
     "data": {
      "text/plain": [
       "(3, 2)"
      ]
     },
     "execution_count": 26,
     "metadata": {},
     "output_type": "execute_result"
    }
   ],
   "source": [
    "def text_count_punctuations(sentence):\n",
    "    tokens = word_tokenize(sentence)\n",
    "    punc = [w for w in tokens if not nonPunct.match(w)]\n",
    "    exc = [w for w in punc if w == \"!\"]\n",
    "    return (len(punc), len(exc))\n",
    "\n",
    "text_count_punctuations(\"I feel so hungry!! really need food now.\")"
   ]
  },
  {
   "cell_type": "code",
   "execution_count": 27,
   "metadata": {},
   "outputs": [],
   "source": [
    "def count_punctuations(dataset):\n",
    "    for d in dataset:\n",
    "        text = d[\"text\"]\n",
    "        num_punc, num_exc = text_count_punctuations(text)\n",
    "        if \"punctuations\" not in d:\n",
    "            d[\"punctuations\"] = num_punc\n",
    "        if \"exclamations\" not in d:\n",
    "            d[\"exclamations\"] = num_exc\n",
    "    return dataset\n",
    "\n",
    "useful_with_punc = count_punctuations(more_useful)\n",
    "useless_with_punc = count_punctuations(more_useless)"
   ]
  },
  {
   "cell_type": "code",
   "execution_count": 28,
   "metadata": {},
   "outputs": [
    {
     "data": {
      "text/plain": [
       "{'funny': 1,\n",
       " 'user_id': 'tL2pS5UOmN6aAOi3Z-qFGg',\n",
       " 'review_id': 'adNS6X4TnaxuFFxzoezGzg',\n",
       " 'text': \"I've eaten here a couple of times. Great food! Friendly staff! Excellent ambiance.\\n\\nCan't wait to visit here again.\",\n",
       " 'business_id': 'So132GP_uy3XbGs0KNyzyw',\n",
       " 'stars': 5,\n",
       " 'date': '2017-02-10',\n",
       " 'useful': 3,\n",
       " 'character count': 115,\n",
       " 'cool': 0,\n",
       " 'punctuations': 5,\n",
       " 'exclamations': 2}"
      ]
     },
     "execution_count": 28,
     "metadata": {},
     "output_type": "execute_result"
    }
   ],
   "source": [
    "useful_with_punc[1]"
   ]
  },
  {
   "cell_type": "code",
   "execution_count": 29,
   "metadata": {},
   "outputs": [
    {
     "data": {
      "text/plain": [
       "{'funny': 5,\n",
       " 'user_id': 'RqIBYhUDC026rhFL89BhnA',\n",
       " 'review_id': 'DPNb4WxHJ_fcSCakPb1Dnw',\n",
       " 'text': \"We were @ this restaurant last night. At least we tried to be. This is a 1st come 1st serve establishment. Which is not bad. But what is bad you must stand in line on your feet waiting until a chair at the bar is available. They don't care whether or not this is un comfortable, or not compliant with the needs of the Handicap public. This is disgusting.\",\n",
       " 'business_id': 'awI4hHMfa7H0Xf0-ChU5hg',\n",
       " 'stars': 1,\n",
       " 'date': '2016-06-15',\n",
       " 'useful': 0,\n",
       " 'character count': 354,\n",
       " 'cool': 0,\n",
       " 'punctuations': 9,\n",
       " 'exclamations': 0}"
      ]
     },
     "execution_count": 29,
     "metadata": {},
     "output_type": "execute_result"
    }
   ],
   "source": [
    "useless_with_punc[0]"
   ]
  },
  {
   "cell_type": "code",
   "execution_count": 30,
   "metadata": {},
   "outputs": [
    {
     "data": {
      "text/plain": [
       "['feel', 'hungry', 'really', 'need', 'food']"
      ]
     },
     "execution_count": 30,
     "metadata": {},
     "output_type": "execute_result"
    }
   ],
   "source": [
    "from nltk.corpus import stopwords\n",
    "\n",
    "stop_words = set(stopwords.words('english'))\n",
    "\n",
    "def remove_stop_words_and_punc(sentence):\n",
    "    word_tokens = word_tokenize(sentence.lower())\n",
    "    filtered_sentence = [w for w in word_tokens if not w in stop_words and nonPunct.match(w)]\n",
    "    return filtered_sentence\n",
    "\n",
    "remove_stop_words_and_punc(\"I feel so hungry! really need food now.\")"
   ]
  },
  {
   "cell_type": "code",
   "execution_count": 31,
   "metadata": {},
   "outputs": [],
   "source": [
    "from nltk.probability import FreqDist"
   ]
  },
  {
   "cell_type": "code",
   "execution_count": 32,
   "metadata": {},
   "outputs": [],
   "source": [
    "def high_freq_words(dataset):\n",
    "    texts = []\n",
    "    for d in dataset:\n",
    "        noStopAndPunc = remove_stop_words_and_punc(d[\"text\"])\n",
    "        texts += noStopAndPunc\n",
    "    fdist = FreqDist(texts)\n",
    "    return fdist"
   ]
  },
  {
   "cell_type": "code",
   "execution_count": 33,
   "metadata": {},
   "outputs": [],
   "source": [
    "fdist = high_freq_words(useful_with_punc)"
   ]
  },
  {
   "cell_type": "code",
   "execution_count": 34,
   "metadata": {},
   "outputs": [
    {
     "data": {
      "text/plain": [
       "[('food', 74884),\n",
       " ('place', 58019),\n",
       " (\"n't\", 55829),\n",
       " ('good', 54540),\n",
       " (\"'s\", 47263),\n",
       " ('great', 45809),\n",
       " ('service', 42190),\n",
       " ('back', 28809),\n",
       " ('like', 26668),\n",
       " ('time', 25181),\n",
       " ('get', 23357),\n",
       " ('go', 22925),\n",
       " ('one', 22412),\n",
       " ('really', 21608),\n",
       " ('would', 21333),\n",
       " ('chicken', 19527),\n",
       " ('ordered', 17887),\n",
       " ('best', 17874),\n",
       " ('delicious', 17857),\n",
       " ('restaurant', 17019),\n",
       " (\"'ve\", 16829),\n",
       " ('also', 16755),\n",
       " ('got', 16594),\n",
       " ('order', 16400),\n",
       " ('nice', 16161),\n",
       " ('love', 16062),\n",
       " ('try', 16010),\n",
       " ('friendly', 15932),\n",
       " ('definitely', 15150),\n",
       " ('staff', 14903),\n",
       " ('pizza', 14762),\n",
       " ('come', 14529),\n",
       " ('amazing', 14518),\n",
       " ('always', 14102),\n",
       " ('menu', 13705),\n",
       " ('came', 13652),\n",
       " ('even', 13464),\n",
       " ('us', 13411),\n",
       " ('well', 13177),\n",
       " (\"'m\", 12673),\n",
       " ('fresh', 12545),\n",
       " ('never', 11757),\n",
       " ('little', 11205),\n",
       " ('lunch', 10853),\n",
       " ('better', 10785),\n",
       " ('eat', 10399),\n",
       " ('wait', 10293),\n",
       " ('could', 10179),\n",
       " ('pretty', 10133),\n",
       " ('first', 10126),\n",
       " ('went', 9904),\n",
       " ('everything', 9829),\n",
       " ('much', 9819),\n",
       " ('recommend', 9739),\n",
       " ('ever', 9582),\n",
       " ('bar', 9576),\n",
       " ('people', 9121),\n",
       " ('salad', 8939),\n",
       " ('cheese', 8916),\n",
       " ('made', 8900),\n",
       " ('experience', 8810),\n",
       " ('make', 8741),\n",
       " ('sauce', 8610),\n",
       " ('new', 8462),\n",
       " ('location', 8351),\n",
       " ('bad', 8215),\n",
       " (\"'re\", 8018),\n",
       " ('way', 7965),\n",
       " ('tried', 7919),\n",
       " ('super', 7898),\n",
       " ('price', 7866),\n",
       " ('going', 7754),\n",
       " ('night', 7695),\n",
       " ('sure', 7646),\n",
       " ('dinner', 7603),\n",
       " ('worth', 7599),\n",
       " ('times', 7581),\n",
       " ('fries', 7529),\n",
       " ('awesome', 7518),\n",
       " ('meal', 7505),\n",
       " ('small', 7459),\n",
       " ('excellent', 7448),\n",
       " ('quality', 7434),\n",
       " ('want', 7415),\n",
       " ('ca', 7350),\n",
       " ('drinks', 7219),\n",
       " ('two', 7166),\n",
       " (\"'ll\", 7157),\n",
       " ('rice', 7138),\n",
       " ('burger', 7137),\n",
       " ('right', 7122),\n",
       " ('sushi', 7116),\n",
       " ('give', 7091),\n",
       " ('say', 7010),\n",
       " ('still', 6993),\n",
       " ('favorite', 6942),\n",
       " ('taste', 6901),\n",
       " ('tasty', 6874),\n",
       " ('area', 6843),\n",
       " ('hot', 6839),\n",
       " ('atmosphere', 6793),\n",
       " ('prices', 6788),\n",
       " ('breakfast', 6747),\n",
       " ('minutes', 6729),\n",
       " ('every', 6725),\n",
       " ('take', 6656),\n",
       " ('happy', 6620),\n",
       " ('know', 6596),\n",
       " ('2', 6588),\n",
       " ('sandwich', 6565),\n",
       " ('table', 6550),\n",
       " ('meat', 6512),\n",
       " ('server', 6456),\n",
       " ('spot', 6426),\n",
       " ('think', 6281),\n",
       " ('side', 6159),\n",
       " ('many', 6133),\n",
       " ('around', 6115),\n",
       " ('vegas', 6065),\n",
       " ('took', 6048),\n",
       " ('day', 6038),\n",
       " ('coming', 6017),\n",
       " ('bit', 6004),\n",
       " ('coffee', 5919),\n",
       " ('fried', 5909),\n",
       " ('hour', 5871),\n",
       " ('5', 5859),\n",
       " ('next', 5785),\n",
       " ('long', 5733),\n",
       " ('clean', 5683),\n",
       " ('stars', 5679),\n",
       " ('nothing', 5658),\n",
       " ('last', 5604),\n",
       " ('customer', 5552),\n",
       " ('drink', 5546),\n",
       " ('said', 5516),\n",
       " ('lot', 5436),\n",
       " ('beef', 5436),\n",
       " ('beer', 5418),\n",
       " ('fast', 5405),\n",
       " ('since', 5368),\n",
       " ('flavor', 5317),\n",
       " ('soup', 5270),\n",
       " ('perfect', 5245),\n",
       " ('3', 5177),\n",
       " ('though', 5155),\n",
       " ('disappointed', 5138),\n",
       " ('special', 5118),\n",
       " ('something', 5102),\n",
       " ('big', 5097),\n",
       " ('places', 5083),\n",
       " ('find', 5044),\n",
       " ('see', 5036),\n",
       " ('home', 4995),\n",
       " ('sweet', 4968),\n",
       " ('tacos', 4925),\n",
       " ('thing', 4857),\n",
       " ('fish', 4830),\n",
       " ('another', 4828),\n",
       " ('visit', 4812),\n",
       " ('friends', 4749),\n",
       " ('asked', 4746),\n",
       " ('loved', 4716),\n",
       " ('quick', 4715),\n",
       " ('spicy', 4714),\n",
       " ('different', 4696),\n",
       " ('family', 4677),\n",
       " ('pork', 4677),\n",
       " ('busy', 4669),\n",
       " ('tasted', 4655),\n",
       " ('dishes', 4629),\n",
       " ('bread', 4618),\n",
       " ('looking', 4542),\n",
       " ('shrimp', 4501),\n",
       " ('options', 4452),\n",
       " ('steak', 4439),\n",
       " ('wo', 4431),\n",
       " ('portions', 4427),\n",
       " ('huge', 4405),\n",
       " ('selection', 4343),\n",
       " ('cooked', 4314),\n",
       " ('enough', 4308),\n",
       " ('highly', 4293),\n",
       " ('must', 4278),\n",
       " ('check', 4228),\n",
       " ('top', 4204),\n",
       " (\"'d\", 4182),\n",
       " ('enjoyed', 4174),\n",
       " ('feel', 4150),\n",
       " ('town', 4143),\n",
       " ('decent', 4141),\n",
       " ('cold', 4120),\n",
       " ('need', 4104),\n",
       " ('overall', 4100),\n",
       " ('waitress', 4080),\n",
       " ('inside', 4067),\n",
       " ('open', 4021),\n",
       " ('large', 4020),\n",
       " ('away', 4014),\n",
       " ('full', 4007),\n",
       " ('wings', 3972),\n",
       " ('10', 3951),\n",
       " ('4', 3935),\n",
       " ('owner', 3909),\n",
       " ('work', 3889),\n",
       " ('eating', 3857),\n",
       " ('however', 3845),\n",
       " ('found', 3839),\n",
       " ('absolutely', 3838),\n",
       " ('fantastic', 3809),\n",
       " ('free', 3776),\n",
       " ('wanted', 3761),\n",
       " ('told', 3722),\n",
       " ('friend', 3718),\n",
       " ('probably', 3696),\n",
       " ('half', 3675),\n",
       " ('tea', 3674),\n",
       " ('old', 3672),\n",
       " ('dish', 3657),\n",
       " ('ask', 3638),\n",
       " ('enjoy', 3607),\n",
       " ('left', 3597),\n",
       " ('everyone', 3576),\n",
       " ('items', 3572),\n",
       " ('quite', 3565),\n",
       " ('years', 3471),\n",
       " ('else', 3453),\n",
       " ('served', 3445),\n",
       " ('ok', 3427),\n",
       " ('anything', 3423),\n",
       " ('fun', 3406),\n",
       " ('star', 3389),\n",
       " ('thai', 3376),\n",
       " ('attentive', 3374),\n",
       " ('today', 3371),\n",
       " ('husband', 3317),\n",
       " ('stop', 3315),\n",
       " ('high', 3306),\n",
       " ('far', 3299),\n",
       " ('bbq', 3294),\n",
       " ('restaurants', 3287),\n",
       " ('manager', 3282),\n",
       " ('reviews', 3278),\n",
       " ('slow', 3254),\n",
       " ('house', 3238),\n",
       " ('kind', 3236),\n",
       " ('horrible', 3230),\n",
       " ('money', 3215),\n",
       " ('hard', 3215),\n",
       " ('things', 3214),\n",
       " ('usually', 3208),\n",
       " ('review', 3201),\n",
       " ('used', 3196),\n",
       " ('worst', 3194),\n",
       " ('tables', 3193),\n",
       " ('return', 3172),\n",
       " ('wine', 3171),\n",
       " ('authentic', 3171),\n",
       " ('line', 3168),\n",
       " ('rolls', 3139),\n",
       " ('wrong', 3137),\n",
       " ('wonderful', 3124),\n",
       " ('business', 3117),\n",
       " ('rude', 3103),\n",
       " ('cool', 3102),\n",
       " ('cream', 3093),\n",
       " ('terrible', 3087),\n",
       " ('actually', 3058),\n",
       " ('maybe', 3058),\n",
       " ('roll', 3030),\n",
       " ('buffet', 3028),\n",
       " ('outside', 3024),\n",
       " ('decided', 3014),\n",
       " ('let', 3001),\n",
       " ('chips', 2981),\n",
       " ('mexican', 2980),\n",
       " ('almost', 2954),\n",
       " ('close', 2950),\n",
       " ('gave', 2938),\n",
       " ('yummy', 2913),\n",
       " ('ice', 2898),\n",
       " ('especially', 2885),\n",
       " ('look', 2884),\n",
       " ('1', 2872),\n",
       " ('put', 2862),\n",
       " ('extremely', 2855),\n",
       " ('waited', 2852),\n",
       " ('thought', 2845),\n",
       " ('bowl', 2843),\n",
       " ('decor', 2822),\n",
       " ('average', 2803),\n",
       " ('extra', 2798),\n",
       " ('burgers', 2791),\n",
       " ('plate', 2772),\n",
       " ('portion', 2767),\n",
       " ('music', 2756),\n",
       " ('waiting', 2750),\n",
       " ('dessert', 2747),\n",
       " ('without', 2732),\n",
       " ('dry', 2725),\n",
       " ('chinese', 2714),\n",
       " ('dining', 2713),\n",
       " ('trying', 2709),\n",
       " ('bacon', 2705),\n",
       " ('20', 2705),\n",
       " ('getting', 2679),\n",
       " ('yelp', 2658),\n",
       " ('egg', 2648),\n",
       " ('wife', 2648),\n",
       " ('seating', 2643),\n",
       " ('okay', 2631),\n",
       " ('style', 2625),\n",
       " ('couple', 2622),\n",
       " ('lots', 2622),\n",
       " ('water', 2613),\n",
       " ('customers', 2606),\n",
       " ('sandwiches', 2593),\n",
       " ('makes', 2592),\n",
       " ('point', 2591),\n",
       " ('brunch', 2579),\n",
       " ('pho', 2578),\n",
       " ('stopped', 2576),\n",
       " ('week', 2567),\n",
       " ('wish', 2565),\n",
       " ('local', 2564),\n",
       " ('comes', 2557),\n",
       " ('least', 2556),\n",
       " ('ate', 2538),\n",
       " ('looked', 2530),\n",
       " ('eggs', 2529),\n",
       " ('live', 2526),\n",
       " ('keep', 2520),\n",
       " ('taco', 2518),\n",
       " ('real', 2506),\n",
       " ('drive', 2506),\n",
       " ('waiter', 2504),\n",
       " ('sat', 2502),\n",
       " ('care', 2498),\n",
       " ('reasonable', 2487),\n",
       " ('noodles', 2483),\n",
       " ('finally', 2480),\n",
       " ('three', 2474),\n",
       " ('green', 2463),\n",
       " ('size', 2459),\n",
       " ('priced', 2456),\n",
       " ('patio', 2454),\n",
       " ('done', 2453),\n",
       " ('bland', 2440),\n",
       " ('cheap', 2439),\n",
       " ('walked', 2436),\n",
       " ('soon', 2431),\n",
       " ('pay', 2430),\n",
       " ('impressed', 2396),\n",
       " ('whole', 2389),\n",
       " ('italian', 2384),\n",
       " ('tell', 2384),\n",
       " ('hours', 2382),\n",
       " ('serve', 2379),\n",
       " ('crispy', 2369),\n",
       " ('helpful', 2366),\n",
       " ('less', 2348),\n",
       " ('delivery', 2348),\n",
       " ('oh', 2345),\n",
       " ('street', 2344),\n",
       " ('second', 2343),\n",
       " ('variety', 2342),\n",
       " ('plus', 2339),\n",
       " ('sit', 2309),\n",
       " ('fan', 2305),\n",
       " ('parking', 2294),\n",
       " ('servers', 2293),\n",
       " ('seated', 2260),\n",
       " ('expensive', 2254),\n",
       " ('either', 2242),\n",
       " ('crab', 2238),\n",
       " ('bring', 2236),\n",
       " ('ingredients', 2229),\n",
       " ('called', 2224),\n",
       " ('regular', 2211),\n",
       " ('person', 2210),\n",
       " ('expect', 2209),\n",
       " ('garlic', 2209),\n",
       " ('group', 2205),\n",
       " ('use', 2204),\n",
       " ('room', 2201),\n",
       " ('perfectly', 2197),\n",
       " ('burrito', 2186),\n",
       " ('late', 2185),\n",
       " ('ramen', 2160),\n",
       " ('15', 2156),\n",
       " ('curry', 2152),\n",
       " ('strip', 2131),\n",
       " ('yet', 2130),\n",
       " ('kids', 2125),\n",
       " ('ordering', 2124),\n",
       " ('instead', 2118),\n",
       " ('red', 2116),\n",
       " ('party', 2107),\n",
       " ('amount', 2098),\n",
       " ('liked', 2091),\n",
       " ('several', 2090),\n",
       " ('seafood', 2089),\n",
       " ('seemed', 2088),\n",
       " ('pasta', 2085),\n",
       " ('brought', 2080),\n",
       " ('ambiance', 2075),\n",
       " ('french', 2074),\n",
       " ('chef', 2071),\n",
       " ('salsa', 2062),\n",
       " ('wow', 2055),\n",
       " ('glad', 2054),\n",
       " ('part', 2051),\n",
       " ('salmon', 2046),\n",
       " ('warm', 2045),\n",
       " ('flavorful', 2042),\n",
       " ('grilled', 2039),\n",
       " ('felt', 2022),\n",
       " ('kitchen', 2012),\n",
       " ('door', 1996),\n",
       " ('guy', 1991),\n",
       " ('crust', 1985),\n",
       " ('reason', 1981),\n",
       " ('twice', 1971),\n",
       " ('deal', 1967),\n",
       " ('seems', 1964),\n",
       " ('offer', 1954),\n",
       " ('front', 1950),\n",
       " ('beans', 1948),\n",
       " ('name', 1940),\n",
       " ('30', 1929),\n",
       " ('vegan', 1911),\n",
       " ('sunday', 1911),\n",
       " ('end', 1910),\n",
       " ('leave', 1906),\n",
       " ('employees', 1906),\n",
       " ('flavors', 1901),\n",
       " ('may', 1897),\n",
       " ('often', 1895),\n",
       " ('pick', 1894),\n",
       " ('anyone', 1891),\n",
       " ('chocolate', 1890),\n",
       " ('shop', 1888),\n",
       " ('thank', 1886),\n",
       " ('indian', 1884),\n",
       " ('bite', 1880),\n",
       " ('looks', 1871),\n",
       " ('toppings', 1869),\n",
       " ('yes', 1866),\n",
       " ('bartender', 1854),\n",
       " ('orders', 1847),\n",
       " ('mac', 1837),\n",
       " ('someone', 1836),\n",
       " ('white', 1826),\n",
       " ('beautiful', 1821),\n",
       " ('opened', 1820),\n",
       " ('call', 1820),\n",
       " ('potatoes', 1818),\n",
       " ('walk', 1807),\n",
       " ('choice', 1803),\n",
       " ('choose', 1801),\n",
       " ('working', 1794),\n",
       " ('store', 1792),\n",
       " ('cute', 1790),\n",
       " ('recommended', 1786),\n",
       " ('lobster', 1785),\n",
       " ('las', 1782),\n",
       " ('plenty', 1781),\n",
       " ('might', 1771),\n",
       " ('appetizer', 1760),\n",
       " ('saturday', 1758),\n",
       " ('potato', 1753),\n",
       " ('mediocre', 1751),\n",
       " ('overpriced', 1748),\n",
       " ('guys', 1747),\n",
       " ('hungry', 1744),\n",
       " ('making', 1744),\n",
       " ('poor', 1740),\n",
       " ('course', 1731),\n",
       " ('pricey', 1723),\n",
       " ('add', 1714),\n",
       " ('cake', 1711),\n",
       " ('6', 1699),\n",
       " ('gem', 1698),\n",
       " ('saw', 1694),\n",
       " ('ago', 1688),\n",
       " ('start', 1679),\n",
       " ('tastes', 1677),\n",
       " ('fine', 1668),\n",
       " ('salty', 1664),\n",
       " ('although', 1663),\n",
       " ('eaten', 1662),\n",
       " ('specials', 1661),\n",
       " ('beers', 1661),\n",
       " ('counter', 1656),\n",
       " ('later', 1655),\n",
       " ('meals', 1651),\n",
       " ('guess', 1650),\n",
       " ('sitting', 1630),\n",
       " ('please', 1627),\n",
       " ('tender', 1624)]"
      ]
     },
     "execution_count": 34,
     "metadata": {},
     "output_type": "execute_result"
    }
   ],
   "source": [
    "fdist.most_common(500)"
   ]
  },
  {
   "cell_type": "code",
   "execution_count": 35,
   "metadata": {},
   "outputs": [],
   "source": [
    "fdist_useless = high_freq_words(useless_with_punc)"
   ]
  },
  {
   "cell_type": "code",
   "execution_count": 36,
   "metadata": {},
   "outputs": [
    {
     "data": {
      "text/plain": [
       "[('food', 73728),\n",
       " ('good', 55055),\n",
       " ('great', 53440),\n",
       " ('place', 49905),\n",
       " ('service', 42151),\n",
       " (\"n't\", 41299),\n",
       " (\"'s\", 35080),\n",
       " ('back', 24815),\n",
       " ('time', 22951),\n",
       " ('go', 20118),\n",
       " ('like', 19929),\n",
       " ('best', 19320),\n",
       " ('delicious', 18958),\n",
       " ('really', 18456),\n",
       " ('get', 18365),\n",
       " ('would', 18134),\n",
       " ('one', 17669),\n",
       " ('chicken', 17206),\n",
       " ('love', 16915),\n",
       " ('amazing', 16796),\n",
       " ('friendly', 16367),\n",
       " ('always', 15740),\n",
       " ('nice', 15487),\n",
       " ('staff', 15237),\n",
       " ('definitely', 14859),\n",
       " ('restaurant', 14335),\n",
       " (\"'ve\", 14269),\n",
       " ('ordered', 14176),\n",
       " ('also', 13786),\n",
       " ('order', 13317),\n",
       " ('try', 13281),\n",
       " ('got', 12862),\n",
       " ('pizza', 12370),\n",
       " ('come', 11965),\n",
       " ('fresh', 11347),\n",
       " ('menu', 11339),\n",
       " ('well', 11302),\n",
       " ('us', 10977),\n",
       " ('recommend', 10613),\n",
       " ('even', 10229),\n",
       " ('came', 10118),\n",
       " ('little', 9935),\n",
       " ('wait', 9713),\n",
       " ('eat', 9597),\n",
       " ('excellent', 9575),\n",
       " ('lunch', 9295),\n",
       " ('first', 9085),\n",
       " ('never', 9009),\n",
       " (\"'m\", 8835),\n",
       " ('went', 8824),\n",
       " ('everything', 8819),\n",
       " ('better', 8808),\n",
       " ('awesome', 8676),\n",
       " ('ever', 8379),\n",
       " ('atmosphere', 8253),\n",
       " ('could', 8107),\n",
       " ('pretty', 7948),\n",
       " ('experience', 7940),\n",
       " ('salad', 7913),\n",
       " ('made', 7699),\n",
       " ('much', 7511),\n",
       " ('cheese', 7415),\n",
       " ('dinner', 7191),\n",
       " ('breakfast', 7179),\n",
       " ('favorite', 7144),\n",
       " ('price', 7089),\n",
       " ('bar', 7037),\n",
       " ('burger', 7031),\n",
       " ('people', 6993),\n",
       " ('worth', 6990),\n",
       " ('fries', 6979),\n",
       " ('make', 6953),\n",
       " ('times', 6907),\n",
       " ('sauce', 6840),\n",
       " ('super', 6726),\n",
       " ('meal', 6701),\n",
       " ('location', 6684),\n",
       " ('tried', 6593),\n",
       " ('sushi', 6569),\n",
       " ('vegas', 6526),\n",
       " ('server', 6455),\n",
       " ('sure', 6359),\n",
       " ('night', 6332),\n",
       " ('quality', 6156),\n",
       " ('every', 6075),\n",
       " ('ca', 6073),\n",
       " ('drinks', 6058),\n",
       " (\"'re\", 6057),\n",
       " ('tasty', 6044),\n",
       " ('going', 6031),\n",
       " ('bad', 5937),\n",
       " ('way', 5930),\n",
       " ('prices', 5823),\n",
       " ('hot', 5720),\n",
       " ('new', 5715),\n",
       " ('small', 5706),\n",
       " ('spot', 5625),\n",
       " ('taste', 5556),\n",
       " ('area', 5544),\n",
       " ('sandwich', 5531)]"
      ]
     },
     "execution_count": 36,
     "metadata": {},
     "output_type": "execute_result"
    }
   ],
   "source": [
    "fdist_useless.most_common(100)"
   ]
  },
  {
   "cell_type": "markdown",
   "metadata": {},
   "source": [
    "## 3.2 Difference between the rating gives by the review and the overal rating of a business"
   ]
  },
  {
   "cell_type": "code",
   "execution_count": 38,
   "metadata": {},
   "outputs": [
    {
     "data": {
      "text/plain": [
       "{'city': 'Ahwatukee',\n",
       " 'neighborhood': '',\n",
       " 'name': 'Dental by Design',\n",
       " 'business_id': 'FYWN1wneV18bWNgQjJ2GNg',\n",
       " 'longitude': -111.9785992,\n",
       " 'hours': {'Tuesday': '7:30-17:00',\n",
       "  'Friday': '7:30-17:00',\n",
       "  'Monday': '7:30-17:00',\n",
       "  'Wednesday': '7:30-17:00',\n",
       "  'Thursday': '7:30-17:00'},\n",
       " 'state': 'AZ',\n",
       " 'postal_code': '85044',\n",
       " 'categories': ['Dentists',\n",
       "  'General Dentistry',\n",
       "  'Health & Medical',\n",
       "  'Oral Surgeons',\n",
       "  'Cosmetic Dentists',\n",
       "  'Orthodontists'],\n",
       " 'stars': 4.0,\n",
       " 'address': '4855 E Warner Rd, Ste B9',\n",
       " 'latitude': 33.3306902,\n",
       " 'review_count': 22,\n",
       " 'attributes': {'AcceptsInsurance': True,\n",
       "  'ByAppointmentOnly': True,\n",
       "  'BusinessAcceptsCreditCards': True},\n",
       " 'is_open': 1}"
      ]
     },
     "execution_count": 38,
     "metadata": {},
     "output_type": "execute_result"
    }
   ],
   "source": [
    "businesses[0]"
   ]
  },
  {
   "cell_type": "code",
   "execution_count": 39,
   "metadata": {},
   "outputs": [
    {
     "data": {
      "text/plain": [
       "174567"
      ]
     },
     "execution_count": 39,
     "metadata": {},
     "output_type": "execute_result"
    }
   ],
   "source": [
    "len(businesses)"
   ]
  },
  {
   "cell_type": "code",
   "execution_count": 40,
   "metadata": {},
   "outputs": [],
   "source": [
    "businessDict = {}\n",
    "for b in businesses:\n",
    "    b_id = b[\"business_id\"]\n",
    "    if b_id not in businessDict:\n",
    "        businessDict[b_id] = b"
   ]
  },
  {
   "cell_type": "code",
   "execution_count": 41,
   "metadata": {},
   "outputs": [
    {
     "data": {
      "text/plain": [
       "174567"
      ]
     },
     "execution_count": 41,
     "metadata": {},
     "output_type": "execute_result"
    }
   ],
   "source": [
    "len(businessDict)"
   ]
  },
  {
   "cell_type": "code",
   "execution_count": 42,
   "metadata": {},
   "outputs": [],
   "source": [
    "# rating_difference = the difference between customer and overall rating * number of votes\n",
    "\n",
    "def rating_difference(dataset):\n",
    "    for d in dataset:\n",
    "        review_stars = d[\"stars\"]\n",
    "        business = d[\"business_id\"]\n",
    "        if business in businessDict:\n",
    "            b_stars = businessDict[business][\"stars\"]\n",
    "            difference = (review_stars - b_stars)\n",
    "            if difference not in d:\n",
    "                d[\"rating_difference\"] = difference\n",
    "            if \"b_stars\" not in d:\n",
    "                d[\"b_stars\"] = b_stars"
   ]
  },
  {
   "cell_type": "code",
   "execution_count": 43,
   "metadata": {},
   "outputs": [],
   "source": [
    "rating_difference(useful_with_punc)\n",
    "rating_difference(useless_with_punc)"
   ]
  },
  {
   "cell_type": "code",
   "execution_count": 44,
   "metadata": {},
   "outputs": [
    {
     "data": {
      "text/plain": [
       "{'funny': 5,\n",
       " 'user_id': 'RqIBYhUDC026rhFL89BhnA',\n",
       " 'review_id': 'DPNb4WxHJ_fcSCakPb1Dnw',\n",
       " 'text': \"We were @ this restaurant last night. At least we tried to be. This is a 1st come 1st serve establishment. Which is not bad. But what is bad you must stand in line on your feet waiting until a chair at the bar is available. They don't care whether or not this is un comfortable, or not compliant with the needs of the Handicap public. This is disgusting.\",\n",
       " 'business_id': 'awI4hHMfa7H0Xf0-ChU5hg',\n",
       " 'stars': 1,\n",
       " 'date': '2016-06-15',\n",
       " 'useful': 0,\n",
       " 'character count': 354,\n",
       " 'cool': 0,\n",
       " 'punctuations': 9,\n",
       " 'exclamations': 0,\n",
       " 'rating_difference': -3.5,\n",
       " 'b_stars': 4.5}"
      ]
     },
     "execution_count": 44,
     "metadata": {},
     "output_type": "execute_result"
    }
   ],
   "source": [
    "useless_with_punc[0]"
   ]
  },
  {
   "cell_type": "code",
   "execution_count": 45,
   "metadata": {},
   "outputs": [],
   "source": [
    "useful_rating_difference = []\n",
    "for d in useful_with_punc:\n",
    "    useful_rating_difference.append((d[\"useful\"], d[\"rating_difference\"]))\n",
    "    \n",
    "useless_rating_difference = []\n",
    "for d in useless_with_punc:\n",
    "    useless_rating_difference.append(d[\"rating_difference\"])"
   ]
  },
  {
   "cell_type": "code",
   "execution_count": 46,
   "metadata": {},
   "outputs": [
    {
     "data": {
      "text/plain": [
       "3.7218251677962306"
      ]
     },
     "execution_count": 46,
     "metadata": {},
     "output_type": "execute_result"
    }
   ],
   "source": [
    "# X = np.arange(len(useful_rating_difference))\n",
    "# plt.figure(figsize=(30, 6))\n",
    "# plt.scatter(X, useful_rating_difference, color='red')\n",
    "# plt.scatter(X, useless_rating_difference, color='blue')\n",
    "useful_std = np.std(useful_rating_difference)\n",
    "useful_std"
   ]
  },
  {
   "cell_type": "code",
   "execution_count": 47,
   "metadata": {},
   "outputs": [
    {
     "data": {
      "text/plain": [
       "1.2131685907153509"
      ]
     },
     "execution_count": 47,
     "metadata": {},
     "output_type": "execute_result"
    }
   ],
   "source": [
    "useless_std = np.std(useless_rating_difference)\n",
    "useless_std"
   ]
  },
  {
   "cell_type": "markdown",
   "metadata": {},
   "source": [
    "Useful reviews give more radical ratings for some reason."
   ]
  },
  {
   "cell_type": "markdown",
   "metadata": {},
   "source": [
    "## 3.3 Sentiment Analysis"
   ]
  },
  {
   "cell_type": "code",
   "execution_count": 48,
   "metadata": {},
   "outputs": [],
   "source": [
    "from negative import *\n",
    "from positive import *"
   ]
  },
  {
   "cell_type": "code",
   "execution_count": 49,
   "metadata": {},
   "outputs": [
    {
     "data": {
      "text/plain": [
       "{'a+': 1,\n",
       " 'abound': 1,\n",
       " 'abounds': 1,\n",
       " 'abundance': 1,\n",
       " 'abundant': 1,\n",
       " 'accessable': 1,\n",
       " 'accessible': 1,\n",
       " 'acclaim': 1,\n",
       " 'acclaimed': 1,\n",
       " 'acclamation': 1,\n",
       " 'accolade': 1,\n",
       " 'accolades': 1,\n",
       " 'accommodative': 1,\n",
       " 'accomodative': 1,\n",
       " 'accomplish': 1,\n",
       " 'accomplished': 1,\n",
       " 'accomplishment': 1,\n",
       " 'accomplishments': 1,\n",
       " 'accurate': 1,\n",
       " 'accurately': 1,\n",
       " 'achievable': 1,\n",
       " 'achievement': 1,\n",
       " 'achievements': 1,\n",
       " 'achievible': 1,\n",
       " 'acumen': 1,\n",
       " 'adaptable': 1,\n",
       " 'adaptive': 1,\n",
       " 'adequate': 1,\n",
       " 'adjustable': 1,\n",
       " 'admirable': 1,\n",
       " 'admirably': 1,\n",
       " 'admiration': 1,\n",
       " 'admire': 1,\n",
       " 'admirer': 1,\n",
       " 'admiring': 1,\n",
       " 'admiringly': 1,\n",
       " 'adorable': 1,\n",
       " 'adore': 1,\n",
       " 'adored': 1,\n",
       " 'adorer': 1,\n",
       " 'adoring': 1,\n",
       " 'adoringly': 1,\n",
       " 'adroit': 1,\n",
       " 'adroitly': 1,\n",
       " 'adulate': 1,\n",
       " 'adulation': 1,\n",
       " 'adulatory': 1,\n",
       " 'advanced': 1,\n",
       " 'advantage': 1,\n",
       " 'advantageous': 1,\n",
       " 'advantageously': 1,\n",
       " 'advantages': 1,\n",
       " 'adventuresome': 1,\n",
       " 'adventurous': 1,\n",
       " 'advocate': 1,\n",
       " 'advocated': 1,\n",
       " 'advocates': 1,\n",
       " 'affability': 1,\n",
       " 'affable': 1,\n",
       " 'affably': 1,\n",
       " 'affectation': 1,\n",
       " 'affection': 1,\n",
       " 'affectionate': 1,\n",
       " 'affinity': 1,\n",
       " 'affirm': 1,\n",
       " 'affirmation': 1,\n",
       " 'affirmative': 1,\n",
       " 'affluence': 1,\n",
       " 'affluent': 1,\n",
       " 'afford': 1,\n",
       " 'affordable': 1,\n",
       " 'affordably': 1,\n",
       " 'afordable': 1,\n",
       " 'agile': 1,\n",
       " 'agilely': 1,\n",
       " 'agility': 1,\n",
       " 'agreeable': 1,\n",
       " 'agreeableness': 1,\n",
       " 'agreeably': 1,\n",
       " 'all-around': 1,\n",
       " 'alluring': 1,\n",
       " 'alluringly': 1,\n",
       " 'altruistic': 1,\n",
       " 'altruistically': 1,\n",
       " 'amaze': 1,\n",
       " 'amazed': 1,\n",
       " 'amazement': 1,\n",
       " 'amazes': 1,\n",
       " 'amazing': 1,\n",
       " 'amazingly': 1,\n",
       " 'ambitious': 1,\n",
       " 'ambitiously': 1,\n",
       " 'ameliorate': 1,\n",
       " 'amenable': 1,\n",
       " 'amenity': 1,\n",
       " 'amiability': 1,\n",
       " 'amiabily': 1,\n",
       " 'amiable': 1,\n",
       " 'amicability': 1,\n",
       " 'amicable': 1,\n",
       " 'amicably': 1,\n",
       " 'amity': 1,\n",
       " 'ample': 1,\n",
       " 'amply': 1,\n",
       " 'amuse': 1,\n",
       " 'amusing': 1,\n",
       " 'amusingly': 1,\n",
       " 'angel': 1,\n",
       " 'angelic': 1,\n",
       " 'apotheosis': 1,\n",
       " 'appeal': 1,\n",
       " 'appealing': 1,\n",
       " 'applaud': 1,\n",
       " 'appreciable': 1,\n",
       " 'appreciate': 1,\n",
       " 'appreciated': 1,\n",
       " 'appreciates': 1,\n",
       " 'appreciative': 1,\n",
       " 'appreciatively': 1,\n",
       " 'appropriate': 1,\n",
       " 'approval': 1,\n",
       " 'approve': 1,\n",
       " 'ardent': 1,\n",
       " 'ardently': 1,\n",
       " 'ardor': 1,\n",
       " 'articulate': 1,\n",
       " 'aspiration': 1,\n",
       " 'aspirations': 1,\n",
       " 'aspire': 1,\n",
       " 'assurance': 1,\n",
       " 'assurances': 1,\n",
       " 'assure': 1,\n",
       " 'assuredly': 1,\n",
       " 'assuring': 1,\n",
       " 'astonish': 1,\n",
       " 'astonished': 1,\n",
       " 'astonishing': 1,\n",
       " 'astonishingly': 1,\n",
       " 'astonishment': 1,\n",
       " 'astound': 1,\n",
       " 'astounded': 1,\n",
       " 'astounding': 1,\n",
       " 'astoundingly': 1,\n",
       " 'astutely': 1,\n",
       " 'attentive': 1,\n",
       " 'attraction': 1,\n",
       " 'attractive': 1,\n",
       " 'attractively': 1,\n",
       " 'attune': 1,\n",
       " 'audible': 1,\n",
       " 'audibly': 1,\n",
       " 'auspicious': 1,\n",
       " 'authentic': 1,\n",
       " 'authoritative': 1,\n",
       " 'autonomous': 1,\n",
       " 'available': 1,\n",
       " 'aver': 1,\n",
       " 'avid': 1,\n",
       " 'avidly': 1,\n",
       " 'award': 1,\n",
       " 'awarded': 1,\n",
       " 'awards': 1,\n",
       " 'awe': 1,\n",
       " 'awed': 1,\n",
       " 'awesome': 1,\n",
       " 'awesomely': 1,\n",
       " 'awesomeness': 1,\n",
       " 'awestruck': 1,\n",
       " 'awsome': 1,\n",
       " 'backbone': 1,\n",
       " 'balanced': 1,\n",
       " 'bargain': 1,\n",
       " 'beauteous': 1,\n",
       " 'beautiful': 1,\n",
       " 'beautifullly': 1,\n",
       " 'beautifully': 1,\n",
       " 'beautify': 1,\n",
       " 'beauty': 1,\n",
       " 'beckon': 1,\n",
       " 'beckoned': 1,\n",
       " 'beckoning': 1,\n",
       " 'beckons': 1,\n",
       " 'believable': 1,\n",
       " 'believeable': 1,\n",
       " 'beloved': 1,\n",
       " 'benefactor': 1,\n",
       " 'beneficent': 1,\n",
       " 'beneficial': 1,\n",
       " 'beneficially': 1,\n",
       " 'beneficiary': 1,\n",
       " 'benefit': 1,\n",
       " 'benefits': 1,\n",
       " 'benevolence': 1,\n",
       " 'benevolent': 1,\n",
       " 'benifits': 1,\n",
       " 'best': 1,\n",
       " 'best-known': 1,\n",
       " 'best-performing': 1,\n",
       " 'best-selling': 1,\n",
       " 'better': 1,\n",
       " 'better-known': 1,\n",
       " 'better-than-expected': 1,\n",
       " 'beutifully': 1,\n",
       " 'blameless': 1,\n",
       " 'bless': 1,\n",
       " 'blessing': 1,\n",
       " 'bliss': 1,\n",
       " 'blissful': 1,\n",
       " 'blissfully': 1,\n",
       " 'blithe': 1,\n",
       " 'blockbuster': 1,\n",
       " 'bloom': 1,\n",
       " 'blossom': 1,\n",
       " 'bolster': 1,\n",
       " 'bonny': 1,\n",
       " 'bonus': 1,\n",
       " 'bonuses': 1,\n",
       " 'boom': 1,\n",
       " 'booming': 1,\n",
       " 'boost': 1,\n",
       " 'boundless': 1,\n",
       " 'bountiful': 1,\n",
       " 'brainiest': 1,\n",
       " 'brainy': 1,\n",
       " 'brand-new': 1,\n",
       " 'brave': 1,\n",
       " 'bravery': 1,\n",
       " 'bravo': 1,\n",
       " 'breakthrough': 1,\n",
       " 'breakthroughs': 1,\n",
       " 'breathlessness': 1,\n",
       " 'breathtaking': 1,\n",
       " 'breathtakingly': 1,\n",
       " 'breeze': 1,\n",
       " 'bright': 1,\n",
       " 'brighten': 1,\n",
       " 'brighter': 1,\n",
       " 'brightest': 1,\n",
       " 'brilliance': 1,\n",
       " 'brilliances': 1,\n",
       " 'brilliant': 1,\n",
       " 'brilliantly': 1,\n",
       " 'brisk': 1,\n",
       " 'brotherly': 1,\n",
       " 'bullish': 1,\n",
       " 'buoyant': 1,\n",
       " 'cajole': 1,\n",
       " 'calm': 1,\n",
       " 'calming': 1,\n",
       " 'calmness': 1,\n",
       " 'capability': 1,\n",
       " 'capable': 1,\n",
       " 'capably': 1,\n",
       " 'captivate': 1,\n",
       " 'captivating': 1,\n",
       " 'carefree': 1,\n",
       " 'cashback': 1,\n",
       " 'cashbacks': 1,\n",
       " 'catchy': 1,\n",
       " 'celebrate': 1,\n",
       " 'celebrated': 1,\n",
       " 'celebration': 1,\n",
       " 'celebratory': 1,\n",
       " 'champ': 1,\n",
       " 'champion': 1,\n",
       " 'charisma': 1,\n",
       " 'charismatic': 1,\n",
       " 'charitable': 1,\n",
       " 'charm': 1,\n",
       " 'charming': 1,\n",
       " 'charmingly': 1,\n",
       " 'chaste': 1,\n",
       " 'cheaper': 1,\n",
       " 'cheapest': 1,\n",
       " 'cheer': 1,\n",
       " 'cheerful': 1,\n",
       " 'cheery': 1,\n",
       " 'cherish': 1,\n",
       " 'cherished': 1,\n",
       " 'cherub': 1,\n",
       " 'chic': 1,\n",
       " 'chivalrous': 1,\n",
       " 'chivalry': 1,\n",
       " 'civility': 1,\n",
       " 'civilize': 1,\n",
       " 'clarity': 1,\n",
       " 'classic': 1,\n",
       " 'classy': 1,\n",
       " 'clean': 1,\n",
       " 'cleaner': 1,\n",
       " 'cleanest': 1,\n",
       " 'cleanliness': 1,\n",
       " 'cleanly': 1,\n",
       " 'clear': 1,\n",
       " 'clear-cut': 1,\n",
       " 'cleared': 1,\n",
       " 'clearer': 1,\n",
       " 'clearly': 1,\n",
       " 'clears': 1,\n",
       " 'clever': 1,\n",
       " 'cleverly': 1,\n",
       " 'cohere': 1,\n",
       " 'coherence': 1,\n",
       " 'coherent': 1,\n",
       " 'cohesive': 1,\n",
       " 'colorful': 1,\n",
       " 'comely': 1,\n",
       " 'comfort': 1,\n",
       " 'comfortable': 1,\n",
       " 'comfortably': 1,\n",
       " 'comforting': 1,\n",
       " 'comfy': 1,\n",
       " 'commend': 1,\n",
       " 'commendable': 1,\n",
       " 'commendably': 1,\n",
       " 'commitment': 1,\n",
       " 'commodious': 1,\n",
       " 'compact': 1,\n",
       " 'compactly': 1,\n",
       " 'compassion': 1,\n",
       " 'compassionate': 1,\n",
       " 'compatible': 1,\n",
       " 'competitive': 1,\n",
       " 'complement': 1,\n",
       " 'complementary': 1,\n",
       " 'complemented': 1,\n",
       " 'complements': 1,\n",
       " 'compliant': 1,\n",
       " 'compliment': 1,\n",
       " 'complimentary': 1,\n",
       " 'comprehensive': 1,\n",
       " 'conciliate': 1,\n",
       " 'conciliatory': 1,\n",
       " 'concise': 1,\n",
       " 'confidence': 1,\n",
       " 'confident': 1,\n",
       " 'congenial': 1,\n",
       " 'congratulate': 1,\n",
       " 'congratulation': 1,\n",
       " 'congratulations': 1,\n",
       " 'congratulatory': 1,\n",
       " 'conscientious': 1,\n",
       " 'considerate': 1,\n",
       " 'consistent': 1,\n",
       " 'consistently': 1,\n",
       " 'constructive': 1,\n",
       " 'consummate': 1,\n",
       " 'contentment': 1,\n",
       " 'continuity': 1,\n",
       " 'contrasty': 1,\n",
       " 'contribution': 1,\n",
       " 'convenience': 1,\n",
       " 'convenient': 1,\n",
       " 'conveniently': 1,\n",
       " 'convience': 1,\n",
       " 'convienient': 1,\n",
       " 'convient': 1,\n",
       " 'convincing': 1,\n",
       " 'convincingly': 1,\n",
       " 'cool': 1,\n",
       " 'coolest': 1,\n",
       " 'cooperative': 1,\n",
       " 'cooperatively': 1,\n",
       " 'cornerstone': 1,\n",
       " 'correct': 1,\n",
       " 'correctly': 1,\n",
       " 'cost-effective': 1,\n",
       " 'cost-saving': 1,\n",
       " 'counter-attack': 1,\n",
       " 'counter-attacks': 1,\n",
       " 'courage': 1,\n",
       " 'courageous': 1,\n",
       " 'courageously': 1,\n",
       " 'courageousness': 1,\n",
       " 'courteous': 1,\n",
       " 'courtly': 1,\n",
       " 'covenant': 1,\n",
       " 'cozy': 1,\n",
       " 'creative': 1,\n",
       " 'credence': 1,\n",
       " 'credible': 1,\n",
       " 'crisp': 1,\n",
       " 'crisper': 1,\n",
       " 'cure': 1,\n",
       " 'cure-all': 1,\n",
       " 'cushy': 1,\n",
       " 'cute': 1,\n",
       " 'cuteness': 1,\n",
       " 'danke': 1,\n",
       " 'danken': 1,\n",
       " 'daring': 1,\n",
       " 'daringly': 1,\n",
       " 'darling': 1,\n",
       " 'dashing': 1,\n",
       " 'dauntless': 1,\n",
       " 'dawn': 1,\n",
       " 'dazzle': 1,\n",
       " 'dazzled': 1,\n",
       " 'dazzling': 1,\n",
       " 'dead-cheap': 1,\n",
       " 'dead-on': 1,\n",
       " 'decency': 1,\n",
       " 'decent': 1,\n",
       " 'decisive': 1,\n",
       " 'decisiveness': 1,\n",
       " 'dedicated': 1,\n",
       " 'defeat': 1,\n",
       " 'defeated': 1,\n",
       " 'defeating': 1,\n",
       " 'defeats': 1,\n",
       " 'defender': 1,\n",
       " 'deference': 1,\n",
       " 'deft': 1,\n",
       " 'deginified': 1,\n",
       " 'delectable': 1,\n",
       " 'delicacy': 1,\n",
       " 'delicate': 1,\n",
       " 'delicious': 1,\n",
       " 'delight': 1,\n",
       " 'delighted': 1,\n",
       " 'delightful': 1,\n",
       " 'delightfully': 1,\n",
       " 'delightfulness': 1,\n",
       " 'dependable': 1,\n",
       " 'dependably': 1,\n",
       " 'deservedly': 1,\n",
       " 'deserving': 1,\n",
       " 'desirable': 1,\n",
       " 'desiring': 1,\n",
       " 'desirous': 1,\n",
       " 'destiny': 1,\n",
       " 'detachable': 1,\n",
       " 'devout': 1,\n",
       " 'dexterous': 1,\n",
       " 'dexterously': 1,\n",
       " 'dextrous': 1,\n",
       " 'dignified': 1,\n",
       " 'dignify': 1,\n",
       " 'dignity': 1,\n",
       " 'diligence': 1,\n",
       " 'diligent': 1,\n",
       " 'diligently': 1,\n",
       " 'diplomatic': 1,\n",
       " 'dirt-cheap': 1,\n",
       " 'distinction': 1,\n",
       " 'distinctive': 1,\n",
       " 'distinguished': 1,\n",
       " 'diversified': 1,\n",
       " 'divine': 1,\n",
       " 'divinely': 1,\n",
       " 'dominate': 1,\n",
       " 'dominated': 1,\n",
       " 'dominates': 1,\n",
       " 'dote': 1,\n",
       " 'dotingly': 1,\n",
       " 'doubtless': 1,\n",
       " 'dreamland': 1,\n",
       " 'dumbfounded': 1,\n",
       " 'dumbfounding': 1,\n",
       " 'dummy-proof': 1,\n",
       " 'durable': 1,\n",
       " 'dynamic': 1,\n",
       " 'eager': 1,\n",
       " 'eagerly': 1,\n",
       " 'eagerness': 1,\n",
       " 'earnest': 1,\n",
       " 'earnestly': 1,\n",
       " 'earnestness': 1,\n",
       " 'ease': 1,\n",
       " 'eased': 1,\n",
       " 'eases': 1,\n",
       " 'easier': 1,\n",
       " 'easiest': 1,\n",
       " 'easiness': 1,\n",
       " 'easing': 1,\n",
       " 'easy': 1,\n",
       " 'easy-to-use': 1,\n",
       " 'easygoing': 1,\n",
       " 'ebullience': 1,\n",
       " 'ebullient': 1,\n",
       " 'ebulliently': 1,\n",
       " 'ecenomical': 1,\n",
       " 'economical': 1,\n",
       " 'ecstasies': 1,\n",
       " 'ecstasy': 1,\n",
       " 'ecstatic': 1,\n",
       " 'ecstatically': 1,\n",
       " 'edify': 1,\n",
       " 'educated': 1,\n",
       " 'effective': 1,\n",
       " 'effectively': 1,\n",
       " 'effectiveness': 1,\n",
       " 'effectual': 1,\n",
       " 'efficacious': 1,\n",
       " 'efficient': 1,\n",
       " 'efficiently': 1,\n",
       " 'effortless': 1,\n",
       " 'effortlessly': 1,\n",
       " 'effusion': 1,\n",
       " 'effusive': 1,\n",
       " 'effusively': 1,\n",
       " 'effusiveness': 1,\n",
       " 'elan': 1,\n",
       " 'elate': 1,\n",
       " 'elated': 1,\n",
       " 'elatedly': 1,\n",
       " 'elation': 1,\n",
       " 'electrify': 1,\n",
       " 'elegance': 1,\n",
       " 'elegant': 1,\n",
       " 'elegantly': 1,\n",
       " 'elevate': 1,\n",
       " 'elite': 1,\n",
       " 'eloquence': 1,\n",
       " 'eloquent': 1,\n",
       " 'eloquently': 1,\n",
       " 'embolden': 1,\n",
       " 'eminence': 1,\n",
       " 'eminent': 1,\n",
       " 'empathize': 1,\n",
       " 'empathy': 1,\n",
       " 'empower': 1,\n",
       " 'empowerment': 1,\n",
       " 'enchant': 1,\n",
       " 'enchanted': 1,\n",
       " 'enchanting': 1,\n",
       " 'enchantingly': 1,\n",
       " 'encourage': 1,\n",
       " 'encouragement': 1,\n",
       " 'encouraging': 1,\n",
       " 'encouragingly': 1,\n",
       " 'endear': 1,\n",
       " 'endearing': 1,\n",
       " 'endorse': 1,\n",
       " 'endorsed': 1,\n",
       " 'endorsement': 1,\n",
       " 'endorses': 1,\n",
       " 'endorsing': 1,\n",
       " 'energetic': 1,\n",
       " 'energize': 1,\n",
       " 'energy-efficient': 1,\n",
       " 'energy-saving': 1,\n",
       " 'engaging': 1,\n",
       " 'engrossing': 1,\n",
       " 'enhance': 1,\n",
       " 'enhanced': 1,\n",
       " 'enhancement': 1,\n",
       " 'enhances': 1,\n",
       " 'enjoy': 1,\n",
       " 'enjoyable': 1,\n",
       " 'enjoyably': 1,\n",
       " 'enjoyed': 1,\n",
       " 'enjoying': 1,\n",
       " 'enjoyment': 1,\n",
       " 'enjoys': 1,\n",
       " 'enlighten': 1,\n",
       " 'enlightenment': 1,\n",
       " 'enliven': 1,\n",
       " 'ennoble': 1,\n",
       " 'enough': 1,\n",
       " 'enrapt': 1,\n",
       " 'enrapture': 1,\n",
       " 'enraptured': 1,\n",
       " 'enrich': 1,\n",
       " 'enrichment': 1,\n",
       " 'enterprising': 1,\n",
       " 'entertain': 1,\n",
       " 'entertaining': 1,\n",
       " 'entertains': 1,\n",
       " 'enthral': 1,\n",
       " 'enthrall': 1,\n",
       " 'enthralled': 1,\n",
       " 'enthuse': 1,\n",
       " 'enthusiasm': 1,\n",
       " 'enthusiast': 1,\n",
       " 'enthusiastic': 1,\n",
       " 'enthusiastically': 1,\n",
       " 'entice': 1,\n",
       " 'enticed': 1,\n",
       " 'enticing': 1,\n",
       " 'enticingly': 1,\n",
       " 'entranced': 1,\n",
       " 'entrancing': 1,\n",
       " 'entrust': 1,\n",
       " 'enviable': 1,\n",
       " 'enviably': 1,\n",
       " 'envious': 1,\n",
       " 'enviously': 1,\n",
       " 'enviousness': 1,\n",
       " 'envy': 1,\n",
       " 'equitable': 1,\n",
       " 'ergonomical': 1,\n",
       " 'err-free': 1,\n",
       " 'erudite': 1,\n",
       " 'ethical': 1,\n",
       " 'eulogize': 1,\n",
       " 'euphoria': 1,\n",
       " 'euphoric': 1,\n",
       " 'euphorically': 1,\n",
       " 'evaluative': 1,\n",
       " 'evenly': 1,\n",
       " 'eventful': 1,\n",
       " 'everlasting': 1,\n",
       " 'evocative': 1,\n",
       " 'exalt': 1,\n",
       " 'exaltation': 1,\n",
       " 'exalted': 1,\n",
       " 'exaltedly': 1,\n",
       " 'exalting': 1,\n",
       " 'exaltingly': 1,\n",
       " 'examplar': 1,\n",
       " 'examplary': 1,\n",
       " 'excallent': 1,\n",
       " 'exceed': 1,\n",
       " 'exceeded': 1,\n",
       " 'exceeding': 1,\n",
       " 'exceedingly': 1,\n",
       " 'exceeds': 1,\n",
       " 'excel': 1,\n",
       " 'exceled': 1,\n",
       " 'excelent': 1,\n",
       " 'excellant': 1,\n",
       " 'excelled': 1,\n",
       " 'excellence': 1,\n",
       " 'excellency': 1,\n",
       " 'excellent': 1,\n",
       " 'excellently': 1,\n",
       " 'excels': 1,\n",
       " 'exceptional': 1,\n",
       " 'exceptionally': 1,\n",
       " 'excite': 1,\n",
       " 'excited': 1,\n",
       " 'excitedly': 1,\n",
       " 'excitedness': 1,\n",
       " 'excitement': 1,\n",
       " 'excites': 1,\n",
       " 'exciting': 1,\n",
       " 'excitingly': 1,\n",
       " 'exellent': 1,\n",
       " 'exemplar': 1,\n",
       " 'exemplary': 1,\n",
       " 'exhilarate': 1,\n",
       " 'exhilarating': 1,\n",
       " 'exhilaratingly': 1,\n",
       " 'exhilaration': 1,\n",
       " 'exonerate': 1,\n",
       " 'expansive': 1,\n",
       " 'expeditiously': 1,\n",
       " 'expertly': 1,\n",
       " 'exquisite': 1,\n",
       " 'exquisitely': 1,\n",
       " 'extol': 1,\n",
       " 'extoll': 1,\n",
       " 'extraordinarily': 1,\n",
       " 'extraordinary': 1,\n",
       " 'exuberance': 1,\n",
       " 'exuberant': 1,\n",
       " 'exuberantly': 1,\n",
       " 'exult': 1,\n",
       " 'exultant': 1,\n",
       " 'exultation': 1,\n",
       " 'exultingly': 1,\n",
       " 'eye-catch': 1,\n",
       " 'eye-catching': 1,\n",
       " 'eyecatch': 1,\n",
       " 'eyecatching': 1,\n",
       " 'fabulous': 1,\n",
       " 'fabulously': 1,\n",
       " 'facilitate': 1,\n",
       " 'fair': 1,\n",
       " 'fairly': 1,\n",
       " 'fairness': 1,\n",
       " 'faith': 1,\n",
       " 'faithful': 1,\n",
       " 'faithfully': 1,\n",
       " 'faithfulness': 1,\n",
       " 'fame': 1,\n",
       " 'famed': 1,\n",
       " 'famous': 1,\n",
       " 'famously': 1,\n",
       " 'fancier': 1,\n",
       " 'fancinating': 1,\n",
       " 'fancy': 1,\n",
       " 'fanfare': 1,\n",
       " 'fans': 1,\n",
       " 'fantastic': 1,\n",
       " 'fantastically': 1,\n",
       " 'fascinate': 1,\n",
       " 'fascinating': 1,\n",
       " 'fascinatingly': 1,\n",
       " 'fascination': 1,\n",
       " 'fashionable': 1,\n",
       " 'fashionably': 1,\n",
       " 'fast': 1,\n",
       " 'fast-growing': 1,\n",
       " 'fast-paced': 1,\n",
       " 'faster': 1,\n",
       " 'fastest': 1,\n",
       " 'fastest-growing': 1,\n",
       " 'faultless': 1,\n",
       " 'fav': 1,\n",
       " 'fave': 1,\n",
       " 'favor': 1,\n",
       " 'favorable': 1,\n",
       " 'favored': 1,\n",
       " 'favorite': 1,\n",
       " 'favorited': 1,\n",
       " 'favour': 1,\n",
       " 'fearless': 1,\n",
       " 'fearlessly': 1,\n",
       " 'feasible': 1,\n",
       " 'feasibly': 1,\n",
       " 'feat': 1,\n",
       " 'feature-rich': 1,\n",
       " 'fecilitous': 1,\n",
       " 'feisty': 1,\n",
       " 'felicitate': 1,\n",
       " 'felicitous': 1,\n",
       " 'felicity': 1,\n",
       " 'fertile': 1,\n",
       " 'fervent': 1,\n",
       " 'fervently': 1,\n",
       " 'fervid': 1,\n",
       " 'fervidly': 1,\n",
       " 'fervor': 1,\n",
       " 'festive': 1,\n",
       " 'fidelity': 1,\n",
       " 'fiery': 1,\n",
       " 'fine': 1,\n",
       " 'fine-looking': 1,\n",
       " 'finely': 1,\n",
       " 'finer': 1,\n",
       " 'finest': 1,\n",
       " 'firmer': 1,\n",
       " 'first-class': 1,\n",
       " 'first-in-class': 1,\n",
       " 'first-rate': 1,\n",
       " 'flashy': 1,\n",
       " 'flatter': 1,\n",
       " 'flattering': 1,\n",
       " 'flatteringly': 1,\n",
       " 'flawless': 1,\n",
       " 'flawlessly': 1,\n",
       " 'flexibility': 1,\n",
       " 'flexible': 1,\n",
       " 'flourish': 1,\n",
       " 'flourishing': 1,\n",
       " 'fluent': 1,\n",
       " 'flutter': 1,\n",
       " 'fond': 1,\n",
       " 'fondly': 1,\n",
       " 'fondness': 1,\n",
       " 'foolproof': 1,\n",
       " 'foremost': 1,\n",
       " 'foresight': 1,\n",
       " 'formidable': 1,\n",
       " 'fortitude': 1,\n",
       " 'fortuitous': 1,\n",
       " 'fortuitously': 1,\n",
       " 'fortunate': 1,\n",
       " 'fortunately': 1,\n",
       " 'fortune': 1,\n",
       " 'fragrant': 1,\n",
       " 'free': 1,\n",
       " 'freed': 1,\n",
       " 'freedom': 1,\n",
       " 'freedoms': 1,\n",
       " 'fresh': 1,\n",
       " 'fresher': 1,\n",
       " 'freshest': 1,\n",
       " 'friendliness': 1,\n",
       " 'friendly': 1,\n",
       " 'frolic': 1,\n",
       " 'frugal': 1,\n",
       " 'fruitful': 1,\n",
       " 'ftw': 1,\n",
       " 'fulfillment': 1,\n",
       " 'fun': 1,\n",
       " 'futurestic': 1,\n",
       " 'futuristic': 1,\n",
       " 'gaiety': 1,\n",
       " 'gaily': 1,\n",
       " 'gain': 1,\n",
       " 'gained': 1,\n",
       " 'gainful': 1,\n",
       " 'gainfully': 1,\n",
       " 'gaining': 1,\n",
       " 'gains': 1,\n",
       " 'gallant': 1,\n",
       " 'gallantly': 1,\n",
       " 'galore': 1,\n",
       " 'geekier': 1,\n",
       " 'geeky': 1,\n",
       " 'gem': 1,\n",
       " 'gems': 1,\n",
       " 'generosity': 1,\n",
       " 'generous': 1,\n",
       " 'generously': 1,\n",
       " 'genial': 1,\n",
       " 'genius': 1,\n",
       " 'gentle': 1,\n",
       " 'gentlest': 1,\n",
       " 'genuine': 1,\n",
       " 'gifted': 1,\n",
       " 'glad': 1,\n",
       " 'gladden': 1,\n",
       " 'gladly': 1,\n",
       " 'gladness': 1,\n",
       " 'glamorous': 1,\n",
       " 'glee': 1,\n",
       " 'gleeful': 1,\n",
       " 'gleefully': 1,\n",
       " 'glimmer': 1,\n",
       " 'glimmering': 1,\n",
       " 'glisten': 1,\n",
       " 'glistening': 1,\n",
       " 'glitter': 1,\n",
       " 'glitz': 1,\n",
       " 'glorify': 1,\n",
       " 'glorious': 1,\n",
       " 'gloriously': 1,\n",
       " 'glory': 1,\n",
       " 'glow': 1,\n",
       " 'glowing': 1,\n",
       " 'glowingly': 1,\n",
       " 'god-given': 1,\n",
       " 'god-send': 1,\n",
       " 'godlike': 1,\n",
       " 'godsend': 1,\n",
       " 'gold': 1,\n",
       " 'golden': 1,\n",
       " 'good': 1,\n",
       " 'goodly': 1,\n",
       " 'goodness': 1,\n",
       " 'goodwill': 1,\n",
       " 'goood': 1,\n",
       " 'gooood': 1,\n",
       " 'gorgeous': 1,\n",
       " 'gorgeously': 1,\n",
       " 'grace': 1,\n",
       " 'graceful': 1,\n",
       " 'gracefully': 1,\n",
       " 'gracious': 1,\n",
       " 'graciously': 1,\n",
       " 'graciousness': 1,\n",
       " 'grand': 1,\n",
       " 'grandeur': 1,\n",
       " 'grateful': 1,\n",
       " 'gratefully': 1,\n",
       " 'gratification': 1,\n",
       " 'gratified': 1,\n",
       " 'gratifies': 1,\n",
       " 'gratify': 1,\n",
       " 'gratifying': 1,\n",
       " 'gratifyingly': 1,\n",
       " 'gratitude': 1,\n",
       " 'great': 1,\n",
       " 'greatest': 1,\n",
       " 'greatness': 1,\n",
       " 'grin': 1,\n",
       " 'groundbreaking': 1,\n",
       " 'guarantee': 1,\n",
       " 'guidance': 1,\n",
       " 'guiltless': 1,\n",
       " 'gumption': 1,\n",
       " 'gush': 1,\n",
       " 'gusto': 1,\n",
       " 'gutsy': 1,\n",
       " 'hail': 1,\n",
       " 'halcyon': 1,\n",
       " 'hale': 1,\n",
       " 'hallmark': 1,\n",
       " 'hallmarks': 1,\n",
       " 'hallowed': 1,\n",
       " 'handier': 1,\n",
       " 'handily': 1,\n",
       " 'hands-down': 1,\n",
       " 'handsome': 1,\n",
       " 'handsomely': 1,\n",
       " 'handy': 1,\n",
       " 'happier': 1,\n",
       " 'happily': 1,\n",
       " 'happiness': 1,\n",
       " 'happy': 1,\n",
       " 'hard-working': 1,\n",
       " 'hardier': 1,\n",
       " 'hardy': 1,\n",
       " 'harmless': 1,\n",
       " 'harmonious': 1,\n",
       " 'harmoniously': 1,\n",
       " 'harmonize': 1,\n",
       " 'harmony': 1,\n",
       " 'headway': 1,\n",
       " 'heal': 1,\n",
       " 'healthful': 1,\n",
       " 'healthy': 1,\n",
       " 'hearten': 1,\n",
       " 'heartening': 1,\n",
       " 'heartfelt': 1,\n",
       " 'heartily': 1,\n",
       " 'heartwarming': 1,\n",
       " 'heaven': 1,\n",
       " 'heavenly': 1,\n",
       " 'helped': 1,\n",
       " 'helpful': 1,\n",
       " 'helping': 1,\n",
       " 'hero': 1,\n",
       " 'heroic': 1,\n",
       " 'heroically': 1,\n",
       " 'heroine': 1,\n",
       " 'heroize': 1,\n",
       " 'heros': 1,\n",
       " 'high-quality': 1,\n",
       " 'high-spirited': 1,\n",
       " 'hilarious': 1,\n",
       " 'holy': 1,\n",
       " 'homage': 1,\n",
       " 'honest': 1,\n",
       " 'honesty': 1,\n",
       " 'honor': 1,\n",
       " 'honorable': 1,\n",
       " 'honored': 1,\n",
       " 'honoring': 1,\n",
       " 'hooray': 1,\n",
       " 'hopeful': 1,\n",
       " 'hospitable': 1,\n",
       " 'hot': 1,\n",
       " 'hotcake': 1,\n",
       " 'hotcakes': 1,\n",
       " 'hottest': 1,\n",
       " 'hug': 1,\n",
       " 'humane': 1,\n",
       " 'humble': 1,\n",
       " 'humility': 1,\n",
       " 'humor': 1,\n",
       " 'humorous': 1,\n",
       " 'humorously': 1,\n",
       " 'humour': 1,\n",
       " 'humourous': 1,\n",
       " 'ideal': 1,\n",
       " 'idealize': 1,\n",
       " 'ideally': 1,\n",
       " 'idol': 1,\n",
       " 'idolize': 1,\n",
       " 'idolized': 1,\n",
       " 'idyllic': 1,\n",
       " 'illuminate': 1,\n",
       " 'illuminati': 1,\n",
       " 'illuminating': 1,\n",
       " 'illumine': 1,\n",
       " 'illustrious': 1,\n",
       " 'ilu': 1,\n",
       " 'imaculate': 1,\n",
       " 'imaginative': 1,\n",
       " 'immaculate': 1,\n",
       " 'immaculately': 1,\n",
       " 'immense': 1,\n",
       " 'impartial': 1,\n",
       " 'impartiality': 1,\n",
       " 'impartially': 1,\n",
       " 'impassioned': 1,\n",
       " 'impeccable': 1,\n",
       " 'impeccably': 1,\n",
       " 'important': 1,\n",
       " 'impress': 1,\n",
       " 'impressed': 1,\n",
       " 'impresses': 1,\n",
       " 'impressive': 1,\n",
       " 'impressively': 1,\n",
       " 'impressiveness': 1,\n",
       " 'improve': 1,\n",
       " 'improved': 1,\n",
       " 'improvement': 1,\n",
       " 'improvements': 1,\n",
       " 'improves': 1,\n",
       " 'improving': 1,\n",
       " 'incredible': 1,\n",
       " 'incredibly': 1,\n",
       " 'indebted': 1,\n",
       " 'individualized': 1,\n",
       " 'indulgence': 1,\n",
       " 'indulgent': 1,\n",
       " 'industrious': 1,\n",
       " 'inestimable': 1,\n",
       " 'inestimably': 1,\n",
       " 'inexpensive': 1,\n",
       " 'infallibility': 1,\n",
       " 'infallible': 1,\n",
       " 'infallibly': 1,\n",
       " 'influential': 1,\n",
       " 'ingenious': 1,\n",
       " 'ingeniously': 1,\n",
       " 'ingenuity': 1,\n",
       " 'ingenuous': 1,\n",
       " 'ingenuously': 1,\n",
       " 'innocuous': 1,\n",
       " 'innovation': 1,\n",
       " 'innovative': 1,\n",
       " 'inpressed': 1,\n",
       " 'insightful': 1,\n",
       " ...}"
      ]
     },
     "execution_count": 49,
     "metadata": {},
     "output_type": "execute_result"
    }
   ],
   "source": [
    "positive_dict"
   ]
  },
  {
   "cell_type": "code",
   "execution_count": 50,
   "metadata": {},
   "outputs": [],
   "source": [
    "def num_negative(sentence):\n",
    "    word_tokens = word_tokenize(sentence.lower())\n",
    "    counter = 0\n",
    "    neg = False\n",
    "    ls = []\n",
    "    for w in word_tokens:\n",
    "        if w == \"not\":\n",
    "            neg = True\n",
    "        elif neg:\n",
    "            if w in positive_dict:\n",
    "                counter += 1\n",
    "#                 ls.append('not' + w)\n",
    "            neg = False\n",
    "        elif not neg:\n",
    "            if w in negative_dict:\n",
    "                counter += 1\n",
    "#                 ls.append(w)\n",
    "#     print(ls)\n",
    "    return counter"
   ]
  },
  {
   "cell_type": "code",
   "execution_count": 51,
   "metadata": {},
   "outputs": [],
   "source": [
    "def num_positive(sentence):\n",
    "    word_tokens = word_tokenize(sentence.lower())\n",
    "    counter = 0\n",
    "    neg = False\n",
    "    ls = []\n",
    "    for w in word_tokens:\n",
    "        if w == \"not\":\n",
    "            neg = True\n",
    "        elif neg:\n",
    "            if w in negative_dict:\n",
    "                counter += 1\n",
    "#                 ls.append('not ' + w)\n",
    "            neg = False\n",
    "        elif not neg:\n",
    "            if w in positive_dict:\n",
    "                counter += 1\n",
    "#                 ls.append(w)\n",
    "#     print(ls)\n",
    "    return counter, len(word_tokens)"
   ]
  },
  {
   "cell_type": "code",
   "execution_count": 52,
   "metadata": {},
   "outputs": [],
   "source": [
    "def num_pos_and_neg(sentence):\n",
    "    word_tokens = word_tokenize(sentence.lower())\n",
    "    negation = False\n",
    "    word_count = 0\n",
    "    pos = []\n",
    "    neg = []\n",
    "    for w in word_tokens:\n",
    "        if w == \"not\" or w == \"n't\":\n",
    "            negation = True\n",
    "            word_count += 1\n",
    "        elif not nonPunct.match(w) or w == \"but\":\n",
    "            negation = False\n",
    "        elif negation:\n",
    "            if w in negative_dict:\n",
    "                pos.append(\"-\"+w)\n",
    "                negation = False\n",
    "            elif w in positive_dict:\n",
    "                neg.append(\"-\"+w)\n",
    "                negation = False\n",
    "            word_count += 1\n",
    "        elif not negation:\n",
    "            if w in negative_dict:\n",
    "                neg.append(w)\n",
    "            elif w in positive_dict:\n",
    "                pos.append(w)\n",
    "            word_count += 1\n",
    "    return (len(pos),len(neg),word_count)\n",
    "                "
   ]
  },
  {
   "cell_type": "code",
   "execution_count": 53,
   "metadata": {},
   "outputs": [
    {
     "data": {
      "text/plain": [
       "(5, 0, 42)"
      ]
     },
     "execution_count": 53,
     "metadata": {},
     "output_type": "execute_result"
    }
   ],
   "source": [
    "s = \"Not bad!! Love that there is a gluten-free, vegan version of the cheese curds and gravy!!\\n\\nHaven't done the poutine taste test yet but Im excited to see which is better. However poutini's might win as they are vegan and gluten-free\"\n",
    "s_2 = \"I'd heard such rave reviews before I came here, so I had some expectations built up.  For my taste, the serving sizes were a little small.  I had the veggie burger, which was good, but wasn't mind-blowing.  I like the location, so I'll likely be back with friends, and I'll try other foods, but as of this moment, it's not my favorite vegetarian-friendly place in town.\"\n",
    "num_pos_and_neg(s)"
   ]
  },
  {
   "cell_type": "code",
   "execution_count": 54,
   "metadata": {},
   "outputs": [],
   "source": [
    "def pos_and_neg(dataset):\n",
    "    for d in dataset:\n",
    "#         pos,count = num_positive(d[\"text\"])\n",
    "#         neg = num_negative(d[\"text\"])\n",
    "        pos, neg, count = num_pos_and_neg(d[\"text\"])\n",
    "        if \"pos\" not in d:\n",
    "            d[\"pos\"] = pos\n",
    "        if \"word count\" not in d:\n",
    "            d[\"word count\"] = count\n",
    "        if \"neg\" not in d:\n",
    "            d[\"neg\"] = neg"
   ]
  },
  {
   "cell_type": "code",
   "execution_count": 55,
   "metadata": {},
   "outputs": [],
   "source": [
    "pos_and_neg(useful_with_punc)"
   ]
  },
  {
   "cell_type": "code",
   "execution_count": 56,
   "metadata": {},
   "outputs": [],
   "source": [
    "pos_and_neg(useless_with_punc)"
   ]
  },
  {
   "cell_type": "code",
   "execution_count": 57,
   "metadata": {},
   "outputs": [
    {
     "data": {
      "text/plain": [
       "{'funny': 0,\n",
       " 'user_id': 'Y76nS3L426UCz7N_1pUfUQ',\n",
       " 'review_id': 'upi3_hGamBZl0X2eCrsIUw',\n",
       " 'text': \"I'd heard such rave reviews before I came here, so I had some expectations built up.  For my taste, the serving sizes were a little small.  I had the veggie burger, which was good, but wasn't mind-blowing.  I like the location, so I'll likely be back with friends, and I'll try other foods, but as of this moment, it's not my favorite vegetarian-friendly place in town.\",\n",
       " 'business_id': 'SR0Q2hAEMJ_m23O_x-khSQ',\n",
       " 'stars': 3,\n",
       " 'date': '2017-02-18',\n",
       " 'useful': 2,\n",
       " 'character count': 369,\n",
       " 'cool': 0,\n",
       " 'punctuations': 12,\n",
       " 'exclamations': 0,\n",
       " 'rating_difference': -1.0,\n",
       " 'b_stars': 4.0,\n",
       " 'pos': 2,\n",
       " 'word count': 69,\n",
       " 'neg': 2}"
      ]
     },
     "execution_count": 57,
     "metadata": {},
     "output_type": "execute_result"
    }
   ],
   "source": [
    "useful_with_punc[3]"
   ]
  },
  {
   "cell_type": "code",
   "execution_count": 58,
   "metadata": {},
   "outputs": [],
   "source": [
    "def get_features(data):\n",
    "    data[\"tag\"] = \"useful\" if data[\"useful\"] > 0 else \"useless\"\n",
    "    result = {}\n",
    "    result[\"rating_difference\"] = data[\"rating_difference\"]\n",
    "    result[\"word count\"] = data[\"word count\"]\n",
    "    result[\"punctuations\"] = data[\"punctuations\"]\n",
    "    result[\"exclamations\"] = data[\"exclamations\"]\n",
    "    result[\"pos\"] = data[\"pos\"]\n",
    "    result[\"neg\"] = data[\"neg\"]\n",
    "    return result"
   ]
  },
  {
   "cell_type": "code",
   "execution_count": 59,
   "metadata": {
    "scrolled": true
   },
   "outputs": [
    {
     "data": {
      "text/plain": [
       "{'rating_difference': 0.5,\n",
       " 'word count': 44,\n",
       " 'punctuations': 4,\n",
       " 'exclamations': 0,\n",
       " 'pos': 3,\n",
       " 'neg': 0}"
      ]
     },
     "execution_count": 59,
     "metadata": {},
     "output_type": "execute_result"
    }
   ],
   "source": [
    "get_features(useful_with_punc[0])"
   ]
  },
  {
   "cell_type": "code",
   "execution_count": 60,
   "metadata": {},
   "outputs": [
    {
     "data": {
      "text/plain": [
       "123477"
      ]
     },
     "execution_count": 60,
     "metadata": {},
     "output_type": "execute_result"
    }
   ],
   "source": [
    "len(useful_with_punc)"
   ]
  },
  {
   "cell_type": "markdown",
   "metadata": {},
   "source": [
    "## 3.4 Training and Testing"
   ]
  },
  {
   "cell_type": "code",
   "execution_count": 61,
   "metadata": {},
   "outputs": [
    {
     "name": "stdout",
     "output_type": "stream",
     "text": [
      "197562\n",
      "49392\n"
     ]
    }
   ],
   "source": [
    "trainData = useful_with_punc[:98781] + useless_with_punc[:98781]\n",
    "testData = useful_with_punc[98781:] + useless_with_punc[98781:]\n",
    "\n",
    "print(len(trainData))\n",
    "print(len(testData))"
   ]
  },
  {
   "cell_type": "code",
   "execution_count": 62,
   "metadata": {},
   "outputs": [],
   "source": [
    "shuffle(trainData)\n",
    "shuffle(testData)"
   ]
  },
  {
   "cell_type": "code",
   "execution_count": 63,
   "metadata": {},
   "outputs": [],
   "source": [
    "train = [(get_features(d), d[\"tag\"]) for d in trainData]"
   ]
  },
  {
   "cell_type": "code",
   "execution_count": 64,
   "metadata": {},
   "outputs": [],
   "source": [
    "test = [(get_features(d), d[\"tag\"]) for d in testData]"
   ]
  },
  {
   "cell_type": "code",
   "execution_count": 65,
   "metadata": {},
   "outputs": [],
   "source": [
    "from nltk.classify.scikitlearn import SklearnClassifier"
   ]
  },
  {
   "cell_type": "code",
   "execution_count": 66,
   "metadata": {},
   "outputs": [],
   "source": [
    "from sklearn.naive_bayes import MultinomialNB,BernoulliNB,GaussianNB"
   ]
  },
  {
   "cell_type": "code",
   "execution_count": 67,
   "metadata": {},
   "outputs": [],
   "source": [
    "BNB_classifier = SklearnClassifier(BernoulliNB())"
   ]
  },
  {
   "cell_type": "code",
   "execution_count": 68,
   "metadata": {},
   "outputs": [
    {
     "data": {
      "text/plain": [
       "<SklearnClassifier(BernoulliNB(alpha=1.0, binarize=0.0, class_prior=None, fit_prior=True))>"
      ]
     },
     "execution_count": 68,
     "metadata": {},
     "output_type": "execute_result"
    }
   ],
   "source": [
    "BNB_classifier.train(train)"
   ]
  },
  {
   "cell_type": "code",
   "execution_count": 69,
   "metadata": {},
   "outputs": [
    {
     "name": "stdout",
     "output_type": "stream",
     "text": [
      "BernoulliNB accuracy percent: 55.93415937803693\n"
     ]
    }
   ],
   "source": [
    "print(\"BernoulliNB accuracy percent:\",nltk.classify.accuracy(BNB_classifier, test)*100)"
   ]
  },
  {
   "cell_type": "markdown",
   "metadata": {},
   "source": [
    "## 3.5 Using NaiveBayesClassifier in NLTK"
   ]
  },
  {
   "cell_type": "code",
   "execution_count": 71,
   "metadata": {},
   "outputs": [],
   "source": [
    "clf = nltk.NaiveBayesClassifier.train(train)"
   ]
  },
  {
   "cell_type": "code",
   "execution_count": 72,
   "metadata": {},
   "outputs": [
    {
     "name": "stdout",
     "output_type": "stream",
     "text": [
      "useless labeled as: useful\n",
      "useless labeled as: useful\n",
      "useful labeled as: useless\n",
      "useless labeled as: useful\n",
      "useless labeled as: useless\n",
      "useless labeled as: useless\n",
      "useful labeled as: useful\n",
      "useful labeled as: useless\n",
      "useless labeled as: useless\n",
      "useful labeled as: useless\n"
     ]
    }
   ],
   "source": [
    "for d in testData[100:110]:\n",
    "    print(d[\"tag\"], \"labeled as:\", clf.classify(get_features(d)))"
   ]
  },
  {
   "cell_type": "code",
   "execution_count": 73,
   "metadata": {},
   "outputs": [
    {
     "data": {
      "text/plain": [
       "0.615180596047943"
      ]
     },
     "execution_count": 73,
     "metadata": {},
     "output_type": "execute_result"
    }
   ],
   "source": [
    "nltk.classify.accuracy(clf, test)"
   ]
  },
  {
   "cell_type": "code",
   "execution_count": 74,
   "metadata": {},
   "outputs": [
    {
     "name": "stdout",
     "output_type": "stream",
     "text": [
      "Most Informative Features\n",
      "       rating_difference = 3.5            useles : useful =      5.9 : 1.0\n",
      "              word count = 124            useful : useles =      4.8 : 1.0\n",
      "            punctuations = 32             useful : useles =      4.7 : 1.0\n",
      "            exclamations = 26             useful : useles =      4.3 : 1.0\n",
      "            punctuations = 28             useful : useles =      4.2 : 1.0\n"
     ]
    }
   ],
   "source": [
    "clf.show_most_informative_features(5)"
   ]
  },
  {
   "cell_type": "markdown",
   "metadata": {},
   "source": [
    "## 3.6 Predict new reviews"
   ]
  },
  {
   "cell_type": "code",
   "execution_count": 75,
   "metadata": {},
   "outputs": [],
   "source": [
    "review = \"First off, I am going to come back and write a more proper review, but for now this is what you get. I waited a little too long in between coming here to remember exactly what I ordered, but I think I can still get my point across. \\nI had a BALL here. It was such a fun and bustling atmosphere. Fantastic food and at really decent prices for such good quality. We had appetizers, pizza, sweet potato ravioli and two drinks each and I am pretty sure it was only $100. I can't wait to come back and try some more of the menu items. \\nAlso, at the end of the day the receipt comes with a small notebook where you can write, draw, autograph... whatever you want to encapsulate your time there. It was a really fun, unique little send-off. We had a great time!\""
   ]
  },
  {
   "cell_type": "code",
   "execution_count": 76,
   "metadata": {},
   "outputs": [],
   "source": [
    "def raw_to_feature(sentence):\n",
    "    result = {}\n",
    "    punc, exc = text_count_punctuations(sentence)\n",
    "    pos, neg, length = num_pos_and_neg(sentence)\n",
    "#     pos,length = num_positive(sentence)\n",
    "#     neg = num_negative(sentence)\n",
    "    result[\"punctuations\"] = punc\n",
    "    result[\"exclamations\"] = exc\n",
    "    result[\"pos\"] = pos\n",
    "    result[\"neg\"] = neg\n",
    "    result[\"word count\"] = length\n",
    "    return result"
   ]
  },
  {
   "cell_type": "code",
   "execution_count": 77,
   "metadata": {},
   "outputs": [],
   "source": [
    "features = raw_to_feature(review)"
   ]
  },
  {
   "cell_type": "code",
   "execution_count": 78,
   "metadata": {},
   "outputs": [
    {
     "data": {
      "text/plain": [
       "{'punctuations': 21, 'exclamations': 1, 'pos': 9, 'neg': 0, 'word count': 146}"
      ]
     },
     "execution_count": 78,
     "metadata": {},
     "output_type": "execute_result"
    }
   ],
   "source": [
    "features"
   ]
  },
  {
   "cell_type": "code",
   "execution_count": 79,
   "metadata": {},
   "outputs": [],
   "source": [
    "user_rating = 3.0"
   ]
  },
  {
   "cell_type": "code",
   "execution_count": 80,
   "metadata": {},
   "outputs": [],
   "source": [
    "business_rating = 3.0"
   ]
  },
  {
   "cell_type": "code",
   "execution_count": 81,
   "metadata": {},
   "outputs": [],
   "source": [
    "features[\"rating_differences\"] = user_rating - business_rating # 0.0"
   ]
  },
  {
   "cell_type": "code",
   "execution_count": 82,
   "metadata": {},
   "outputs": [
    {
     "data": {
      "text/plain": [
       "{'punctuations': 21,\n",
       " 'exclamations': 1,\n",
       " 'pos': 9,\n",
       " 'neg': 0,\n",
       " 'word count': 146,\n",
       " 'rating_differences': 0.0}"
      ]
     },
     "execution_count": 82,
     "metadata": {},
     "output_type": "execute_result"
    }
   ],
   "source": [
    "features"
   ]
  },
  {
   "cell_type": "code",
   "execution_count": 83,
   "metadata": {},
   "outputs": [
    {
     "name": "stdout",
     "output_type": "stream",
     "text": [
      "useful labeled as: useful\n"
     ]
    }
   ],
   "source": [
    "print(\"useful\", \"labeled as:\", clf.classify(features))"
   ]
  },
  {
   "cell_type": "code",
   "execution_count": 84,
   "metadata": {},
   "outputs": [],
   "source": [
    "useless_review = \"I went here for dinner with family (small, 3-person group), and loved it! Waitress was nice, but I will say it took a while to get a second round of drinks. I was able to order a pizza without cheese due to my dairy intolerance. Unbelievable pizza!\\nFunky interior, fun outdoor patio, and fun menu. You can pick and choose your own charcuterie board by picking a meat, a cheese, and olives or a spread. I think this is a cool idea, to get drinks with friends and get different charcuterie boards to try. Fun!\""
   ]
  },
  {
   "cell_type": "code",
   "execution_count": 85,
   "metadata": {},
   "outputs": [],
   "source": [
    "user_rating = 5.0"
   ]
  },
  {
   "cell_type": "code",
   "execution_count": 86,
   "metadata": {},
   "outputs": [],
   "source": [
    "business_rating = 4.0"
   ]
  },
  {
   "cell_type": "code",
   "execution_count": 87,
   "metadata": {},
   "outputs": [],
   "source": [
    "useless_features = raw_to_feature(useless_review)\n",
    "useless_features[\"rating_differences\"] = user_rating - business_rating"
   ]
  },
  {
   "cell_type": "code",
   "execution_count": 88,
   "metadata": {},
   "outputs": [
    {
     "data": {
      "text/plain": [
       "{'punctuations': 18,\n",
       " 'exclamations': 3,\n",
       " 'pos': 6,\n",
       " 'neg': 3,\n",
       " 'word count': 94,\n",
       " 'rating_differences': 1.0}"
      ]
     },
     "execution_count": 88,
     "metadata": {},
     "output_type": "execute_result"
    }
   ],
   "source": [
    "useless_features"
   ]
  },
  {
   "cell_type": "code",
   "execution_count": 90,
   "metadata": {},
   "outputs": [
    {
     "name": "stdout",
     "output_type": "stream",
     "text": [
      "useless labeled as: useful\n"
     ]
    }
   ],
   "source": [
    "print(\"useless\", \"labeled as:\", clf.classify(features))"
   ]
  },
  {
   "cell_type": "code",
   "execution_count": null,
   "metadata": {},
   "outputs": [],
   "source": []
  }
 ],
 "metadata": {
  "kernelspec": {
   "display_name": "Python 3",
   "language": "python",
   "name": "python3"
  },
  "language_info": {
   "codemirror_mode": {
    "name": "ipython",
    "version": 3
   },
   "file_extension": ".py",
   "mimetype": "text/x-python",
   "name": "python",
   "nbconvert_exporter": "python",
   "pygments_lexer": "ipython3",
   "version": "3.6.5"
  }
 },
 "nbformat": 4,
 "nbformat_minor": 2
}
